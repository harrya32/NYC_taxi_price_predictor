{
 "cells": [
  {
   "cell_type": "code",
   "execution_count": 1,
   "metadata": {},
   "outputs": [],
   "source": [
    "import pandas as pd\n",
    "import numpy as np"
   ]
  },
  {
   "cell_type": "code",
   "execution_count": 2,
   "metadata": {},
   "outputs": [],
   "source": [
    "#Functions for cleaning the TLC yellow and green taxi datasets, before combining them\n",
    "def preprocess(x):\n",
    "    x = x[(x[\"total_amount\"] > 2.5) & (x[\"total_amount\"] < 50)]\n",
    "    x = x[(x[\"passenger_count\"] > 0) & (x[\"passenger_count\"] < 7)]\n",
    "    x = x[(x[\"trip_distance\"] > 0) & (x[\"trip_distance\"] < 20)]\n",
    "    x = x[x[\"RatecodeID\"] == 1]\n",
    "    x = x[(x[\"payment_type\"] == 1) | (x[\"payment_type\"] == 2)]\n",
    "    x = x[(x[\"PULocationID\"]!= 264) & (x[\"PULocationID\"]!= 265) & \\\n",
    "          (x[\"DOLocationID\"]!= 264) & (x[\"DOLocationID\"]!= 265)]\n",
    "    \n",
    "    \n",
    "    x = x.astype({'tpep_pickup_datetime':'datetime64[ns]', 'tpep_dropoff_datetime':'datetime64[ns]', \\\n",
    "                 'PULocationID': 'category', 'DOLocationID': 'category', 'payment_type': 'category', \\\n",
    "                 'RatecodeID': 'category', 'VendorID': 'category', 'passenger_count': 'int32', \\\n",
    "                  'trip_distance':'float32', 'fare_amount':'float32', 'extra':'float32', 'mta_tax':'float32', \\\n",
    "                 'tip_amount':'float32', 'tolls_amount':'float32', 'improvement_surcharge':'float32', \\\n",
    "                 'total_amount':'float32'})\n",
    "    \n",
    "    x = x.rename(columns = {\"tpep_pickup_datetime\":\"pickup_time\", \\\n",
    "                            \"tpep_dropoff_datetime\":\"dropoff_time\"})\n",
    "    \n",
    "    \n",
    "    return x"
   ]
  },
  {
   "cell_type": "code",
   "execution_count": 3,
   "metadata": {},
   "outputs": [],
   "source": [
    "def preprocess_green(x):\n",
    "    x = x.rename(columns = {\"lpep_pickup_datetime\":\"tpep_pickup_datetime\", \\\n",
    "                            \"lpep_dropoff_datetime\":\"tpep_dropoff_datetime\"})\n",
    "    x = x.drop([\"ehail_fee\", \"trip_type\"], axis = 1)\n",
    "    return x"
   ]
  },
  {
   "cell_type": "code",
   "execution_count": 4,
   "metadata": {},
   "outputs": [],
   "source": [
    "#Now, engineer new features and conduct further filtering on those"
   ]
  },
  {
   "cell_type": "code",
   "execution_count": 5,
   "metadata": {},
   "outputs": [],
   "source": [
    "def time(x):\n",
    "    if x < 6 and x > 1:\n",
    "        return 'Morning'\n",
    "    if x < 18:\n",
    "        return 'Day'\n",
    "    if x < 22:\n",
    "        return 'Evening'\n",
    "    return 'Night'"
   ]
  },
  {
   "cell_type": "code",
   "execution_count": 6,
   "metadata": {},
   "outputs": [],
   "source": [
    "def engineer(x, what_year):\n",
    "    x['year'] = x['pickup_time'].dt.year.astype('category')\n",
    "    x = x[x['year'] == what_year]\n",
    "    \n",
    "    \n",
    "    x['month'] = x['pickup_time'].dt.month\n",
    "    x = x[x['month'] < 7]\n",
    "    x['month'] = x['month'].astype('category')\n",
    "    \n",
    "    x['hour'] = x['pickup_time'].dt.hour.astype('category')\n",
    "    x['dow'] = x['pickup_time'].dt.dayofweek.astype('category')\n",
    "    \n",
    "    x['cost'] = x['total_amount'] - x['tip_amount']\n",
    "    \n",
    "    x = x[(x['cost'] > 2.5) & (x['cost'] < 50)]\n",
    "    x['tod'] = np.vectorize(time)(x['hour'])\n",
    "    x['tod'] = x['tod'].astype('category')\n",
    "    \n",
    "    x = x.drop(['VendorID', 'RatecodeID', 'store_and_fwd_flag', 'payment_type', 'fare_amount', \\\n",
    "            'extra', 'mta_tax', 'tip_amount', 'tolls_amount', 'improvement_surcharge'], axis = 1)\n",
    "    return x"
   ]
  },
  {
   "cell_type": "code",
   "execution_count": null,
   "metadata": {},
   "outputs": [],
   "source": []
  },
  {
   "cell_type": "code",
   "execution_count": null,
   "metadata": {},
   "outputs": [],
   "source": []
  },
  {
   "cell_type": "code",
   "execution_count": 5,
   "metadata": {},
   "outputs": [],
   "source": [
    "ydf1 = pd.read_csv(\"../raw_data/yellow_tripdata_2018-01.csv\")\n",
    "ydf2 = pd.read_csv(\"../raw_data/yellow_tripdata_2018-02.csv\")\n",
    "ydf3 = pd.read_csv(\"../raw_data/yellow_tripdata_2018-03.csv\")\n",
    "ydf4 = pd.read_csv(\"../raw_data/yellow_tripdata_2018-04.csv\")\n",
    "ydf5 = pd.read_csv(\"../raw_data/yellow_tripdata_2018-05.csv\")\n",
    "ydf6 = pd.read_csv(\"../raw_data/yellow_tripdata_2018-06.csv\")\n",
    "\n",
    "gdf1 = pd.read_csv(\"../raw_data/green_tripdata_2018-01.csv\")\n",
    "gdf2 = pd.read_csv(\"../raw_data/green_tripdata_2018-02.csv\")\n",
    "gdf3 = pd.read_csv(\"../raw_data/green_tripdata_2018-03.csv\")\n",
    "gdf4 = pd.read_csv(\"../raw_data/green_tripdata_2018-04.csv\")\n",
    "gdf5 = pd.read_csv(\"../raw_data/green_tripdata_2018-05.csv\")\n",
    "gdf6 = pd.read_csv(\"../raw_data/green_tripdata_2018-06.csv\")"
   ]
  },
  {
   "cell_type": "code",
   "execution_count": 8,
   "metadata": {},
   "outputs": [],
   "source": [
    "ydf1 = preprocess(ydf1)\n",
    "ydf2 = preprocess(ydf2)\n",
    "ydf3 = preprocess(ydf3)\n",
    "ydf4 = preprocess(ydf4)\n",
    "ydf5 = preprocess(ydf5)\n",
    "ydf6 = preprocess(ydf6)"
   ]
  },
  {
   "cell_type": "code",
   "execution_count": 9,
   "metadata": {},
   "outputs": [],
   "source": [
    "gdf1 = preprocess_green(gdf1)\n",
    "gdf2 = preprocess_green(gdf2)\n",
    "gdf3 = preprocess_green(gdf3)\n",
    "gdf4 = preprocess_green(gdf4)\n",
    "gdf5 = preprocess_green(gdf5)\n",
    "gdf6 = preprocess_green(gdf6)\n",
    "\n",
    "gdf1 = preprocess(gdf1)\n",
    "gdf2 = preprocess(gdf2)\n",
    "gdf3 = preprocess(gdf3)\n",
    "gdf4 = preprocess(gdf4)\n",
    "gdf5 = preprocess(gdf5)\n",
    "gdf6 = preprocess(gdf6)"
   ]
  },
  {
   "cell_type": "code",
   "execution_count": 12,
   "metadata": {},
   "outputs": [
    {
     "name": "stderr",
     "output_type": "stream",
     "text": [
      "/opt/miniconda3/lib/python3.8/site-packages/pandas/core/frame.py:3607: SettingWithCopyWarning: \n",
      "A value is trying to be set on a copy of a slice from a DataFrame.\n",
      "Try using .loc[row_indexer,col_indexer] = value instead\n",
      "\n",
      "See the caveats in the documentation: https://pandas.pydata.org/pandas-docs/stable/user_guide/indexing.html#returning-a-view-versus-a-copy\n",
      "  self._set_item(key, value)\n"
     ]
    }
   ],
   "source": [
    "ydf1 = engineer(ydf1, 2018)\n",
    "ydf2 = engineer(ydf2, 2018)\n",
    "ydf3 = engineer(ydf3, 2018)\n",
    "ydf4 = engineer(ydf4, 2018)\n",
    "ydf5 = engineer(ydf5, 2018)\n",
    "ydf6 = engineer(ydf6, 2018)"
   ]
  },
  {
   "cell_type": "code",
   "execution_count": 13,
   "metadata": {},
   "outputs": [],
   "source": [
    "gdf1 = engineer(gdf1, 2018)\n",
    "gdf2 = engineer(gdf2, 2018)\n",
    "gdf3 = engineer(gdf3, 2018)\n",
    "gdf4 = engineer(gdf4, 2018)\n",
    "gdf5 = engineer(gdf5, 2018)\n",
    "gdf6 = engineer(gdf6, 2018)"
   ]
  },
  {
   "cell_type": "code",
   "execution_count": 6,
   "metadata": {},
   "outputs": [],
   "source": [
    "total18 = pd.concat([ydf1, ydf2, ydf3, ydf4, ydf5, ydf6, gdf1, gdf2, gdf3, gdf4, gdf5, gdf6])"
   ]
  },
  {
   "cell_type": "code",
   "execution_count": 47,
   "metadata": {},
   "outputs": [],
   "source": [
    "zones = pd.read_csv('../raw_data/zone_lookup.csv')"
   ]
  },
  {
   "cell_type": "code",
   "execution_count": 50,
   "metadata": {},
   "outputs": [],
   "source": [
    "boroughs = zones[['LocationID', 'Borough']]"
   ]
  },
  {
   "cell_type": "code",
   "execution_count": 51,
   "metadata": {},
   "outputs": [],
   "source": [
    "total18 = total18.merge(boroughs, how = 'left', left_on = 'PULocationID', right_on = 'LocationID') \\\n",
    ".rename({\"Borough\" : \"PUBorough\"}, axis = 1)"
   ]
  },
  {
   "cell_type": "code",
   "execution_count": 52,
   "metadata": {},
   "outputs": [],
   "source": [
    "total18 = total18.merge(boroughs, how = 'left', left_on = 'DOLocationID', right_on = 'LocationID') \\\n",
    ".rename({\"Borough\" : \"DOBorough\"}, axis = 1)"
   ]
  },
  {
   "cell_type": "code",
   "execution_count": 54,
   "metadata": {
    "scrolled": true
   },
   "outputs": [],
   "source": [
    "total18 = total18.drop(['LocationID_x', 'LocationID_y'], axis = 1)"
   ]
  },
  {
   "cell_type": "code",
   "execution_count": 22,
   "metadata": {},
   "outputs": [],
   "source": [
    "total18.to_pickle('../preprocessed_data/2018cleaned.pkl')"
   ]
  },
  {
   "cell_type": "code",
   "execution_count": null,
   "metadata": {},
   "outputs": [],
   "source": []
  },
  {
   "cell_type": "code",
   "execution_count": null,
   "metadata": {},
   "outputs": [],
   "source": []
  },
  {
   "cell_type": "code",
   "execution_count": 7,
   "metadata": {},
   "outputs": [],
   "source": [
    "ydf1 = pd.read_csv(\"../raw_data/yellow_tripdata_2019-01.csv\")\n",
    "ydf2 = pd.read_csv(\"../raw_data/yellow_tripdata_2019-02.csv\")\n",
    "ydf3 = pd.read_csv(\"../raw_data/yellow_tripdata_2019-03.csv\")\n",
    "ydf4 = pd.read_csv(\"../raw_data/yellow_tripdata_2019-04.csv\")\n",
    "ydf5 = pd.read_csv(\"../raw_data/yellow_tripdata_2019-05.csv\")\n",
    "ydf6 = pd.read_csv(\"../raw_data/yellow_tripdata_2019-06.csv\")\n",
    "\n",
    "gdf1 = pd.read_csv(\"../raw_data/green_tripdata_2019-01.csv\")\n",
    "gdf2 = pd.read_csv(\"../raw_data/green_tripdata_2019-02.csv\")\n",
    "gdf3 = pd.read_csv(\"../raw_data/green_tripdata_2019-03.csv\")\n",
    "gdf4 = pd.read_csv(\"../raw_data/green_tripdata_2019-04.csv\")\n",
    "gdf5 = pd.read_csv(\"../raw_data/green_tripdata_2019-05.csv\")\n",
    "gdf6 = pd.read_csv(\"../raw_data/green_tripdata_2019-06.csv\")"
   ]
  },
  {
   "cell_type": "code",
   "execution_count": 8,
   "metadata": {},
   "outputs": [],
   "source": [
    "ydf1 = preprocess(ydf1)\n",
    "ydf2 = preprocess(ydf2)\n",
    "ydf3 = preprocess(ydf3)\n",
    "ydf4 = preprocess(ydf4)\n",
    "ydf5 = preprocess(ydf5)\n",
    "ydf6 = preprocess(ydf6)"
   ]
  },
  {
   "cell_type": "code",
   "execution_count": 9,
   "metadata": {},
   "outputs": [],
   "source": [
    "gdf1 = preprocess_green(gdf1)\n",
    "gdf2 = preprocess_green(gdf2)\n",
    "gdf3 = preprocess_green(gdf3)\n",
    "gdf4 = preprocess_green(gdf4)\n",
    "gdf5 = preprocess_green(gdf5)\n",
    "df6 = preprocess_green(gdf6)\n",
    "\n",
    "gdf1 = preprocess(gdf1)\n",
    "gdf2 = preprocess(gdf2)\n",
    "gdf3 = preprocess(gdf3)\n",
    "gdf4 = preprocess(gdf4)\n",
    "gdf5 = preprocess(gdf5)\n",
    "gdf6 = preprocess(gdf6)"
   ]
  },
  {
   "cell_type": "code",
   "execution_count": 10,
   "metadata": {},
   "outputs": [
    {
     "name": "stderr",
     "output_type": "stream",
     "text": [
      "<ipython-input-6-c780c5c82625>:6: SettingWithCopyWarning: \n",
      "A value is trying to be set on a copy of a slice from a DataFrame.\n",
      "Try using .loc[row_indexer,col_indexer] = value instead\n",
      "\n",
      "See the caveats in the documentation: https://pandas.pydata.org/pandas-docs/stable/user_guide/indexing.html#returning-a-view-versus-a-copy\n",
      "  x['month'] = x['pickup_time'].dt.month\n"
     ]
    }
   ],
   "source": [
    "ydf1 = engineer(ydf1, 2019)\n",
    "ydf2 = engineer(ydf2, 2019)\n",
    "ydf3 = engineer(ydf3, 2019)\n",
    "ydf4 = engineer(ydf4, 2019)\n",
    "ydf5 = engineer(ydf5, 2019)\n",
    "ydf6 = engineer(ydf6, 2019)"
   ]
  },
  {
   "cell_type": "code",
   "execution_count": 11,
   "metadata": {},
   "outputs": [
    {
     "name": "stderr",
     "output_type": "stream",
     "text": [
      "<ipython-input-6-c780c5c82625>:6: SettingWithCopyWarning: \n",
      "A value is trying to be set on a copy of a slice from a DataFrame.\n",
      "Try using .loc[row_indexer,col_indexer] = value instead\n",
      "\n",
      "See the caveats in the documentation: https://pandas.pydata.org/pandas-docs/stable/user_guide/indexing.html#returning-a-view-versus-a-copy\n",
      "  x['month'] = x['pickup_time'].dt.month\n"
     ]
    }
   ],
   "source": [
    "gdf1 = engineer(gdf1, 2019)\n",
    "gdf2 = engineer(gdf2, 2019)\n",
    "gdf3 = engineer(gdf3, 2019)\n",
    "gdf4 = engineer(gdf4, 2019)\n",
    "gdf5 = engineer(gdf5, 2019)\n",
    "gdf6 = engineer(gdf6, 2019)"
   ]
  },
  {
   "cell_type": "code",
   "execution_count": 21,
   "metadata": {},
   "outputs": [],
   "source": [
    "total19 = pd.concat([ydf1, ydf2, ydf3, ydf4, ydf5, ydf6, gdf1, gdf2, gdf3, gdf4, gdf5, gdf6])"
   ]
  },
  {
   "cell_type": "code",
   "execution_count": 14,
   "metadata": {},
   "outputs": [],
   "source": [
    "zones = pd.read_csv('../raw_data/zone_lookup.csv')"
   ]
  },
  {
   "cell_type": "code",
   "execution_count": 15,
   "metadata": {},
   "outputs": [],
   "source": [
    "boroughs = zones[['LocationID', 'Borough']]"
   ]
  },
  {
   "cell_type": "code",
   "execution_count": 22,
   "metadata": {},
   "outputs": [],
   "source": [
    "total19 = total19.merge(boroughs, how = 'left', left_on = 'PULocationID', right_on = 'LocationID') \\\n",
    ".rename({\"Borough\" : \"PUBorough\"}, axis = 1)"
   ]
  },
  {
   "cell_type": "code",
   "execution_count": 23,
   "metadata": {},
   "outputs": [],
   "source": [
    "total19 = total19.merge(boroughs, how = 'left', left_on = 'DOLocationID', right_on = 'LocationID') \\\n",
    ".rename({\"Borough\" : \"DOBorough\"}, axis = 1)"
   ]
  },
  {
   "cell_type": "code",
   "execution_count": 24,
   "metadata": {
    "scrolled": true
   },
   "outputs": [],
   "source": [
    "total19 = total19.drop(['LocationID_x', 'LocationID_y', 'congestion_surcharge'], axis = 1)"
   ]
  },
  {
   "cell_type": "code",
   "execution_count": 26,
   "metadata": {},
   "outputs": [],
   "source": [
    "total19.to_pickle('../preprocessed_data/2018cleaned.pkl')"
   ]
  },
  {
   "cell_type": "code",
   "execution_count": null,
   "metadata": {},
   "outputs": [],
   "source": []
  },
  {
   "cell_type": "code",
   "execution_count": null,
   "metadata": {},
   "outputs": [],
   "source": []
  }
 ],
 "metadata": {
  "kernelspec": {
   "display_name": "Python 3",
   "language": "python",
   "name": "python3"
  },
  "language_info": {
   "codemirror_mode": {
    "name": "ipython",
    "version": 3
   },
   "file_extension": ".py",
   "mimetype": "text/x-python",
   "name": "python",
   "nbconvert_exporter": "python",
   "pygments_lexer": "ipython3",
   "version": "3.8.2"
  },
  "varInspector": {
   "cols": {
    "lenName": 16,
    "lenType": 16,
    "lenVar": 40
   },
   "kernels_config": {
    "python": {
     "delete_cmd_postfix": "",
     "delete_cmd_prefix": "del ",
     "library": "var_list.py",
     "varRefreshCmd": "print(var_dic_list())"
    },
    "r": {
     "delete_cmd_postfix": ") ",
     "delete_cmd_prefix": "rm(",
     "library": "var_list.r",
     "varRefreshCmd": "cat(var_dic_list()) "
    }
   },
   "types_to_exclude": [
    "module",
    "function",
    "builtin_function_or_method",
    "instance",
    "_Feature"
   ],
   "window_display": false
  }
 },
 "nbformat": 4,
 "nbformat_minor": 4
}
