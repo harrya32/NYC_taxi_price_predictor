{
 "cells": [
  {
   "cell_type": "code",
   "execution_count": 1,
   "metadata": {},
   "outputs": [],
   "source": [
    "import pandas as pd\n",
    "import fiona\n",
    "import shapely\n",
    "import geopandas as gpd\n",
    "import shapely.speedups\n",
    "from shapely.geometry import shape, Point\n",
    "import numpy as np\n",
    "shapely.speedups.enable()"
   ]
  },
  {
   "cell_type": "code",
   "execution_count": 18,
   "metadata": {},
   "outputs": [
    {
     "name": "stderr",
     "output_type": "stream",
     "text": [
      "/opt/miniconda3/lib/python3.8/site-packages/IPython/core/interactiveshell.py:3441: DtypeWarning: Columns (3) have mixed types.Specify dtype option on import or set low_memory=False.\n",
      "  exec(code_obj, self.user_global_ns, self.user_ns)\n"
     ]
    }
   ],
   "source": [
    "zones = fiona.open(\"../preprocessed_data/zones/fixed_taxi_zones.shp\")\n",
    "crash_df = pd.read_csv(\"../raw_data/car_crashes.csv\")\n",
    "\n",
    "#Filter valid data\n",
    "crash_df = crash_df[crash_df['LATITUDE'].notna()]\n",
    "crash_df = crash_df[crash_df['LONGITUDE'].notna()]\n",
    "\n",
    "crash_df[\"CRASH DATE\"] = crash_df[\"CRASH DATE\"].astype(\"datetime64[ns]\")\n",
    "crash_df['YEAR'] = crash_df['CRASH DATE'].dt.year\n",
    "crash_df['MONTH'] = crash_df['CRASH DATE'].dt.month\n",
    "crash_df = crash_df[(crash_df['YEAR'] == 2018) | (crash_df['YEAR'] == 2019)]\n",
    "crash_df = crash_df[crash_df['MONTH'] < 7]\n",
    "\n",
    "crash_df = crash_df.drop(['BOROUGH', 'ZIP CODE', 'ON STREET NAME', 'CROSS STREET NAME', \\\n",
    "                          'OFF STREET NAME', 'NUMBER OF PERSONS INJURED', \\\n",
    "                          'NUMBER OF PERSONS KILLED', 'NUMBER OF PEDESTRIANS INJURED', \\\n",
    "                          'NUMBER OF PEDESTRIANS KILLED', 'NUMBER OF CYCLIST INJURED', \\\n",
    "                          'NUMBER OF CYCLIST KILLED', 'NUMBER OF MOTORIST INJURED', \\\n",
    "                          'NUMBER OF MOTORIST KILLED', 'CONTRIBUTING FACTOR VEHICLE 1', \\\n",
    "                          'CONTRIBUTING FACTOR VEHICLE 2', 'CONTRIBUTING FACTOR VEHICLE 3', \\\n",
    "                          'CONTRIBUTING FACTOR VEHICLE 4', 'CONTRIBUTING FACTOR VEHICLE 5', \\\n",
    "                          'VEHICLE TYPE CODE 1', 'VEHICLE TYPE CODE 2', 'VEHICLE TYPE CODE 3', \\\n",
    "                          'VEHICLE TYPE CODE 4', 'VEHICLE TYPE CODE 5'], axis = 1)"
   ]
  },
  {
   "cell_type": "code",
   "execution_count": 24,
   "metadata": {},
   "outputs": [],
   "source": [
    "#Finds which taxi zone a long/lat point is in\n",
    "def find_zone(x,y):\n",
    "    for i in range(len(zones)):\n",
    "        shapefile_record = zones[i]\n",
    "        zone_id = shapefile_record['properties']['LocationID']\n",
    "\n",
    "    # Use Shapely to create the polygon\n",
    "        shape = shapely.geometry.asShape(shapefile_record['geometry'])\n",
    "        \n",
    "        try:\n",
    "            checkpoint = shapely.geometry.Point(float(x), float(y)) # longitude, latitude\n",
    "        except:\n",
    "            return 0\n",
    "\n",
    "        if shape.contains(checkpoint):\n",
    "            return zone_id\n",
    "    return 0"
   ]
  },
  {
   "cell_type": "code",
   "execution_count": 21,
   "metadata": {},
   "outputs": [],
   "source": [
    "#This takes a very long time to run (>8 hrs)\n",
    "#Compute which taxi zone each crash is in\n",
    "crash_df['zone'] = np.vectorize(find_zone)(crash_df[\"LONGITUDE\"], crash_df[\"LATITUDE\"])"
   ]
  },
  {
   "cell_type": "code",
   "execution_count": 1,
   "metadata": {},
   "outputs": [
    {
     "ename": "NameError",
     "evalue": "name 'crash_df' is not defined",
     "output_type": "error",
     "traceback": [
      "\u001b[0;31m---------------------------------------------------------------------------\u001b[0m",
      "\u001b[0;31mNameError\u001b[0m                                 Traceback (most recent call last)",
      "\u001b[0;32m/tmp/ipykernel_86633/4253475237.py\u001b[0m in \u001b[0;36m<module>\u001b[0;34m\u001b[0m\n\u001b[0;32m----> 1\u001b[0;31m \u001b[0mcrash_df\u001b[0m \u001b[0;34m=\u001b[0m \u001b[0mcrash_df\u001b[0m\u001b[0;34m[\u001b[0m\u001b[0mcrash_df\u001b[0m\u001b[0;34m[\u001b[0m\u001b[0;34m'zone'\u001b[0m\u001b[0;34m]\u001b[0m \u001b[0;34m!=\u001b[0m \u001b[0;36m0\u001b[0m\u001b[0;34m]\u001b[0m\u001b[0;34m\u001b[0m\u001b[0;34m\u001b[0m\u001b[0m\n\u001b[0m",
      "\u001b[0;31mNameError\u001b[0m: name 'crash_df' is not defined"
     ]
    }
   ],
   "source": [
    "crash_df = crash_df[crash_df['zone'] != 0]"
   ]
  },
  {
   "cell_type": "code",
   "execution_count": null,
   "metadata": {},
   "outputs": [],
   "source": [
    "crash_df.to_pickle(\"../preprocessed_data/crashes_w_zones.pkl\")"
   ]
  },
  {
   "cell_type": "code",
   "execution_count": null,
   "metadata": {},
   "outputs": [],
   "source": []
  },
  {
   "cell_type": "code",
   "execution_count": null,
   "metadata": {},
   "outputs": [],
   "source": []
  }
 ],
 "metadata": {
  "kernelspec": {
   "display_name": "Python 3 (Anaconda 3)",
   "language": "python",
   "name": "python3"
  },
  "language_info": {
   "codemirror_mode": {
    "name": "ipython",
    "version": 3
   },
   "file_extension": ".py",
   "mimetype": "text/x-python",
   "name": "python",
   "nbconvert_exporter": "python",
   "pygments_lexer": "ipython3",
   "version": "3.8.2"
  }
 },
 "nbformat": 4,
 "nbformat_minor": 4
}
