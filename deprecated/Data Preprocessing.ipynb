{
 "cells": [
  {
   "cell_type": "code",
   "execution_count": 1,
   "id": "rotary-manor",
   "metadata": {},
   "outputs": [],
   "source": [
    "from pyspark.sql import SparkSession\n",
    "import warnings\n",
    "warnings.filterwarnings(\"ignore\")\n",
    "from pyspark import SparkConf, SparkContext\n",
    "\n",
    "# Start the spark context\n",
    "sc = SparkContext.getOrCreate(conf=swan_spark_conf)\n",
    "# create a spark session (which will run spark jobs)\n",
    "spark = SparkSession.builder.getOrCreate()"
   ]
  },
  {
   "cell_type": "code",
   "execution_count": 108,
   "id": "promotional-sodium",
   "metadata": {},
   "outputs": [],
   "source": [
    "import pandas as pd\n",
    "crash = pd.read_csv(\"../../Project 1/car_crashes.csv\", low_memory=False)"
   ]
  },
  {
   "cell_type": "code",
   "execution_count": 110,
   "id": "offensive-smile",
   "metadata": {},
   "outputs": [
    {
     "data": {
      "text/plain": [
       "176776.66666666666"
      ]
     },
     "execution_count": 110,
     "metadata": {},
     "output_type": "execute_result"
    }
   ],
   "source": [
    "crash = crash.loc[crash[\"LATITUDE\"]>0]\n",
    "len(crash)/9"
   ]
  },
  {
   "cell_type": "code",
   "execution_count": 75,
   "id": "radical-visiting",
   "metadata": {},
   "outputs": [
    {
     "data": {
      "text/plain": [
       "-73.97617"
      ]
     },
     "execution_count": 75,
     "metadata": {},
     "output_type": "execute_result"
    }
   ],
   "source": [
    "float(crash.iloc[0,5])\n"
   ]
  },
  {
   "cell_type": "code",
   "execution_count": 14,
   "id": "frozen-bloom",
   "metadata": {},
   "outputs": [
    {
     "name": "stdout",
     "output_type": "stream",
     "text": [
      "POINT (-74.17400027276294 40.69183120640148)\n"
     ]
    },
    {
     "name": "stderr",
     "output_type": "stream",
     "text": [
      "<ipython-input-14-0edd40fe8c6a>:6: FionaDeprecationWarning: Collection.__next__() is buggy and will be removed in Fiona 2.0. Switch to `next(iter(collection))`.\n",
      "  r = shapefile.next()\n"
     ]
    }
   ],
   "source": [
    "import fiona\n",
    "import shapely\n",
    "from shapely.geometry import shape, Point\n",
    "\n",
    "shapefile = fiona.open(\"fixed_taxi_zones.shp\")\n",
    "r = shapefile.next()\n",
    "shape = shapely.geometry.asShape( r['geometry'] )\n",
    "print(shape.centroid)"
   ]
  },
  {
   "cell_type": "code",
   "execution_count": null,
   "id": "regulation-contribution",
   "metadata": {},
   "outputs": [],
   "source": []
  },
  {
   "cell_type": "code",
   "execution_count": 101,
   "id": "grave-firmware",
   "metadata": {},
   "outputs": [
    {
     "name": "stdout",
     "output_type": "stream",
     "text": [
      "Found shape for point(-73.97617, 40.68358)at zone 97\n",
      "Found shape for point(-73.97617, 40.68358)at zone 65\n",
      "Found shape for point(-73.97617, 40.68358)at zone 183\n",
      "Found shape for point(-73.97617, 40.68358)at zone 33\n",
      "Found shape for point(-73.97617, 40.68358)at zone 91\n",
      "Found shape for point(-73.97617, 40.68358)at zone 84\n",
      "Found shape for point(-73.97617, 40.68358)at zone 242\n",
      "Found shape for point(-73.97617, 40.68358)at zone 38\n",
      "Found shape for point(-73.97617, 40.68358)at zone 185\n",
      "Found shape for point(-73.97617, 40.68358)at zone 36\n",
      "Found shape for point(-73.97617, 40.68358)at zone 191\n",
      "Found shape for point(-73.97617, 40.68358)at zone 126\n",
      "Found shape for point(-73.97617, 40.68358)at zone 204\n",
      "Found shape for point(-73.97617, 40.68358)at zone 76\n",
      "Found shape for point(-73.97617, 40.68358)at zone 81\n",
      "Found shape for point(-73.97617, 40.68358)at zone 39\n",
      "Found shape for point(-73.97617, 40.68358)at zone 238\n",
      "Found shape for point(-73.97617, 40.68358)at zone 211\n",
      "Found shape for point(-73.97617, 40.68358)at zone 260\n",
      "Found shape for point(-73.97617, 40.68358)at zone 89\n",
      "Found shape for point(-73.97617, 40.68358)at zone 225\n",
      "Found shape for point(-73.97617, 40.68358)at zone 37\n",
      "Found shape for point(-73.97617, 40.68358)at zone 41\n",
      "Found shape for point(-73.97617, 40.68358)at zone 14\n",
      "Found shape for point(-73.97617, 40.68358)at zone 106\n",
      "Found shape for point(-73.97617, 40.68358)at zone 35\n",
      "Found shape for point(-73.97617, 40.68358)at zone 159\n",
      "Found shape for point(-73.97617, 40.68358)at zone 61\n",
      "Found shape for point(-73.97617, 40.68358)at zone 182\n",
      "Found shape for point(-73.97617, 40.68358)at zone 256\n",
      "Found shape for point(-73.97617, 40.68358)at zone 82\n",
      "Found shape for point(-73.97617, 40.68358)at zone 17\n",
      "Found shape for point(-73.97617, 40.68358)at zone 248\n",
      "Found shape for point(-73.97617, 40.68358)at zone 219\n",
      "Found shape for point(-73.97617, 40.68358)at zone 16\n",
      "Found shape for point(-73.97617, 40.68358)at zone 173\n",
      "Found shape for point(-73.97617, 40.68358)at zone 98\n",
      "Found shape for point(-73.97617, 40.68358)at zone 253\n",
      "Found shape for point(-73.97617, 40.68358)at zone 218\n",
      "Found shape for point(-73.97617, 40.68358)at zone 71\n",
      "Found shape for point(-73.97617, 40.68358)at zone 225\n",
      "Found shape for point(-73.97617, 40.68358)at zone 31\n",
      "Found shape for point(-73.97617, 40.68358)at zone 55\n",
      "Found shape for point(-73.97617, 40.68358)at zone 31\n",
      "Found shape for point(-73.97617, 40.68358)at zone 223\n",
      "Found shape for point(-73.97617, 40.68358)at zone 169\n",
      "Found shape for point(-73.97617, 40.68358)at zone 109\n",
      "Found shape for point(-73.97617, 40.68358)at zone 252\n",
      "Found shape for point(-73.97617, 40.68358)at zone 89\n",
      "Found shape for point(-73.97617, 40.68358)at zone 80\n",
      "Found shape for point(-73.97617, 40.68358)at zone 160\n",
      "Found shape for point(-73.97617, 40.68358)at zone 185\n",
      "Found shape for point(-73.97617, 40.68358)at zone 36\n",
      "Found shape for point(-73.97617, 40.68358)at zone 244\n",
      "Found shape for point(-73.97617, 40.68358)at zone 51\n",
      "Found shape for point(-73.97617, 40.68358)at zone 37\n",
      "Found shape for point(-73.97617, 40.68358)at zone 235\n",
      "Found shape for point(-73.97617, 40.68358)at zone 247\n",
      "Found shape for point(-73.97617, 40.68358)at zone 225\n",
      "Found shape for point(-73.97617, 40.68358)at zone 133\n",
      "Found shape for point(-73.97617, 40.68358)at zone 102\n",
      "Found shape for point(-73.97617, 40.68358)at zone 72\n",
      "Found shape for point(-73.97617, 40.68358)at zone 17\n"
     ]
    },
    {
     "ename": "KeyboardInterrupt",
     "evalue": "",
     "output_type": "error",
     "traceback": [
      "\u001b[0;31m---------------------------------------------------------------------------\u001b[0m",
      "\u001b[0;31mKeyboardInterrupt\u001b[0m                         Traceback (most recent call last)",
      "\u001b[0;32m<ipython-input-101-399031f88853>\u001b[0m in \u001b[0;36m<module>\u001b[0;34m\u001b[0m\n\u001b[1;32m     18\u001b[0m         \u001b[0mcheckpoint\u001b[0m \u001b[0;34m=\u001b[0m \u001b[0mshapely\u001b[0m\u001b[0;34m.\u001b[0m\u001b[0mgeometry\u001b[0m\u001b[0;34m.\u001b[0m\u001b[0mPoint\u001b[0m\u001b[0;34m(\u001b[0m\u001b[0mfloat\u001b[0m\u001b[0;34m(\u001b[0m\u001b[0mcrash\u001b[0m\u001b[0;34m.\u001b[0m\u001b[0miloc\u001b[0m\u001b[0;34m[\u001b[0m\u001b[0mi\u001b[0m\u001b[0;34m,\u001b[0m \u001b[0;36m5\u001b[0m\u001b[0;34m]\u001b[0m\u001b[0;34m)\u001b[0m\u001b[0;34m,\u001b[0m \u001b[0mfloat\u001b[0m\u001b[0;34m(\u001b[0m\u001b[0mcrash\u001b[0m\u001b[0;34m.\u001b[0m\u001b[0miloc\u001b[0m\u001b[0;34m[\u001b[0m\u001b[0mi\u001b[0m\u001b[0;34m,\u001b[0m\u001b[0;36m4\u001b[0m\u001b[0;34m]\u001b[0m\u001b[0;34m)\u001b[0m\u001b[0;34m)\u001b[0m \u001b[0;31m# longitude, latitude\u001b[0m\u001b[0;34m\u001b[0m\u001b[0;34m\u001b[0m\u001b[0m\n\u001b[1;32m     19\u001b[0m \u001b[0;34m\u001b[0m\u001b[0m\n\u001b[0;32m---> 20\u001b[0;31m         \u001b[0;32mif\u001b[0m \u001b[0mshape\u001b[0m\u001b[0;34m.\u001b[0m\u001b[0mcontains\u001b[0m\u001b[0;34m(\u001b[0m\u001b[0mcheckpoint\u001b[0m\u001b[0;34m)\u001b[0m\u001b[0;34m:\u001b[0m\u001b[0;34m\u001b[0m\u001b[0;34m\u001b[0m\u001b[0m\n\u001b[0m\u001b[1;32m     21\u001b[0m             \u001b[0mprint\u001b[0m\u001b[0;34m(\u001b[0m\u001b[0;34m\"Found shape for point\"\u001b[0m \u001b[0;34m+\u001b[0m \u001b[0mstr\u001b[0m\u001b[0;34m(\u001b[0m\u001b[0mpoint\u001b[0m\u001b[0;34m)\u001b[0m \u001b[0;34m+\u001b[0m \u001b[0;34m\"at zone \"\u001b[0m \u001b[0;34m+\u001b[0m \u001b[0mstr\u001b[0m\u001b[0;34m(\u001b[0m\u001b[0mzone_id\u001b[0m\u001b[0;34m)\u001b[0m\u001b[0;34m)\u001b[0m\u001b[0;34m\u001b[0m\u001b[0;34m\u001b[0m\u001b[0m\n\u001b[1;32m     22\u001b[0m             \u001b[0;32mbreak\u001b[0m\u001b[0;34m\u001b[0m\u001b[0;34m\u001b[0m\u001b[0m\n",
      "\u001b[0;32m/Library/Frameworks/Python.framework/Versions/3.8/lib/python3.8/site-packages/shapely/geometry/base.py\u001b[0m in \u001b[0;36mcontains\u001b[0;34m(self, other)\u001b[0m\n\u001b[1;32m    745\u001b[0m     \u001b[0;32mdef\u001b[0m \u001b[0mcontains\u001b[0m\u001b[0;34m(\u001b[0m\u001b[0mself\u001b[0m\u001b[0;34m,\u001b[0m \u001b[0mother\u001b[0m\u001b[0;34m)\u001b[0m\u001b[0;34m:\u001b[0m\u001b[0;34m\u001b[0m\u001b[0;34m\u001b[0m\u001b[0m\n\u001b[1;32m    746\u001b[0m         \u001b[0;34m\"\"\"Returns True if the geometry contains the other, else False\"\"\"\u001b[0m\u001b[0;34m\u001b[0m\u001b[0;34m\u001b[0m\u001b[0m\n\u001b[0;32m--> 747\u001b[0;31m         \u001b[0;32mreturn\u001b[0m \u001b[0mbool\u001b[0m\u001b[0;34m(\u001b[0m\u001b[0mself\u001b[0m\u001b[0;34m.\u001b[0m\u001b[0mimpl\u001b[0m\u001b[0;34m[\u001b[0m\u001b[0;34m'contains'\u001b[0m\u001b[0;34m]\u001b[0m\u001b[0;34m(\u001b[0m\u001b[0mself\u001b[0m\u001b[0;34m,\u001b[0m \u001b[0mother\u001b[0m\u001b[0;34m)\u001b[0m\u001b[0;34m)\u001b[0m\u001b[0;34m\u001b[0m\u001b[0;34m\u001b[0m\u001b[0m\n\u001b[0m\u001b[1;32m    748\u001b[0m \u001b[0;34m\u001b[0m\u001b[0m\n\u001b[1;32m    749\u001b[0m     \u001b[0;32mdef\u001b[0m \u001b[0mcrosses\u001b[0m\u001b[0;34m(\u001b[0m\u001b[0mself\u001b[0m\u001b[0;34m,\u001b[0m \u001b[0mother\u001b[0m\u001b[0;34m)\u001b[0m\u001b[0;34m:\u001b[0m\u001b[0;34m\u001b[0m\u001b[0;34m\u001b[0m\u001b[0m\n",
      "\u001b[0;32m/Library/Frameworks/Python.framework/Versions/3.8/lib/python3.8/site-packages/shapely/predicates.py\u001b[0m in \u001b[0;36m__call__\u001b[0;34m(self, this, other, *args)\u001b[0m\n\u001b[1;32m     10\u001b[0m \u001b[0;34m\u001b[0m\u001b[0m\n\u001b[1;32m     11\u001b[0m     \u001b[0;32mdef\u001b[0m \u001b[0m__call__\u001b[0m\u001b[0;34m(\u001b[0m\u001b[0mself\u001b[0m\u001b[0;34m,\u001b[0m \u001b[0mthis\u001b[0m\u001b[0;34m,\u001b[0m \u001b[0mother\u001b[0m\u001b[0;34m,\u001b[0m \u001b[0;34m*\u001b[0m\u001b[0margs\u001b[0m\u001b[0;34m)\u001b[0m\u001b[0;34m:\u001b[0m\u001b[0;34m\u001b[0m\u001b[0;34m\u001b[0m\u001b[0m\n\u001b[0;32m---> 12\u001b[0;31m         \u001b[0mself\u001b[0m\u001b[0;34m.\u001b[0m\u001b[0m_validate\u001b[0m\u001b[0;34m(\u001b[0m\u001b[0mthis\u001b[0m\u001b[0;34m)\u001b[0m\u001b[0;34m\u001b[0m\u001b[0;34m\u001b[0m\u001b[0m\n\u001b[0m\u001b[1;32m     13\u001b[0m         \u001b[0mself\u001b[0m\u001b[0;34m.\u001b[0m\u001b[0m_validate\u001b[0m\u001b[0;34m(\u001b[0m\u001b[0mother\u001b[0m\u001b[0;34m,\u001b[0m \u001b[0mstop_prepared\u001b[0m\u001b[0;34m=\u001b[0m\u001b[0;32mTrue\u001b[0m\u001b[0;34m)\u001b[0m\u001b[0;34m\u001b[0m\u001b[0;34m\u001b[0m\u001b[0m\n\u001b[1;32m     14\u001b[0m         \u001b[0;32mtry\u001b[0m\u001b[0;34m:\u001b[0m\u001b[0;34m\u001b[0m\u001b[0;34m\u001b[0m\u001b[0m\n",
      "\u001b[0;32m/Library/Frameworks/Python.framework/Versions/3.8/lib/python3.8/site-packages/shapely/topology.py\u001b[0m in \u001b[0;36m_validate\u001b[0;34m(self, ob, stop_prepared)\u001b[0m\n\u001b[1;32m     15\u001b[0m \u001b[0;34m\u001b[0m\u001b[0m\n\u001b[1;32m     16\u001b[0m     \u001b[0;32mdef\u001b[0m \u001b[0m_validate\u001b[0m\u001b[0;34m(\u001b[0m\u001b[0mself\u001b[0m\u001b[0;34m,\u001b[0m \u001b[0mob\u001b[0m\u001b[0;34m,\u001b[0m \u001b[0mstop_prepared\u001b[0m\u001b[0;34m=\u001b[0m\u001b[0;32mFalse\u001b[0m\u001b[0;34m)\u001b[0m\u001b[0;34m:\u001b[0m\u001b[0;34m\u001b[0m\u001b[0;34m\u001b[0m\u001b[0m\n\u001b[0;32m---> 17\u001b[0;31m         \u001b[0;32mif\u001b[0m \u001b[0mob\u001b[0m \u001b[0;32mis\u001b[0m \u001b[0;32mNone\u001b[0m \u001b[0;32mor\u001b[0m \u001b[0mob\u001b[0m\u001b[0;34m.\u001b[0m\u001b[0m_geom\u001b[0m \u001b[0;32mis\u001b[0m \u001b[0;32mNone\u001b[0m\u001b[0;34m:\u001b[0m\u001b[0;34m\u001b[0m\u001b[0;34m\u001b[0m\u001b[0m\n\u001b[0m\u001b[1;32m     18\u001b[0m             \u001b[0;32mraise\u001b[0m \u001b[0mValueError\u001b[0m\u001b[0;34m(\u001b[0m\u001b[0;34m\"Null geometry supports no operations\"\u001b[0m\u001b[0;34m)\u001b[0m\u001b[0;34m\u001b[0m\u001b[0;34m\u001b[0m\u001b[0m\n\u001b[1;32m     19\u001b[0m         \u001b[0;32mif\u001b[0m \u001b[0mstop_prepared\u001b[0m \u001b[0;32mand\u001b[0m \u001b[0mhasattr\u001b[0m\u001b[0;34m(\u001b[0m\u001b[0mob\u001b[0m\u001b[0;34m,\u001b[0m \u001b[0;34m'prepared'\u001b[0m\u001b[0;34m)\u001b[0m\u001b[0;34m:\u001b[0m\u001b[0;34m\u001b[0m\u001b[0;34m\u001b[0m\u001b[0m\n",
      "\u001b[0;32m/Library/Frameworks/Python.framework/Versions/3.8/lib/python3.8/site-packages/shapely/geometry/proxy.py\u001b[0m in \u001b[0;36m_geom\u001b[0;34m(self)\u001b[0m\n\u001b[1;32m     28\u001b[0m     \u001b[0;32mdef\u001b[0m \u001b[0m_geom\u001b[0m\u001b[0;34m(\u001b[0m\u001b[0mself\u001b[0m\u001b[0;34m)\u001b[0m\u001b[0;34m:\u001b[0m\u001b[0;34m\u001b[0m\u001b[0;34m\u001b[0m\u001b[0m\n\u001b[1;32m     29\u001b[0m         \u001b[0;34m\"\"\"Keeps the GEOS geometry in synch with the context.\"\"\"\u001b[0m\u001b[0;34m\u001b[0m\u001b[0;34m\u001b[0m\u001b[0m\n\u001b[0;32m---> 30\u001b[0;31m         \u001b[0mgtag\u001b[0m \u001b[0;34m=\u001b[0m \u001b[0mself\u001b[0m\u001b[0;34m.\u001b[0m\u001b[0mgtag\u001b[0m\u001b[0;34m(\u001b[0m\u001b[0;34m)\u001b[0m\u001b[0;34m\u001b[0m\u001b[0;34m\u001b[0m\u001b[0m\n\u001b[0m\u001b[1;32m     31\u001b[0m         \u001b[0;32mif\u001b[0m \u001b[0mgtag\u001b[0m \u001b[0;34m!=\u001b[0m \u001b[0mself\u001b[0m\u001b[0;34m.\u001b[0m\u001b[0m_gtag\u001b[0m \u001b[0;32mor\u001b[0m \u001b[0mself\u001b[0m\u001b[0;34m.\u001b[0m\u001b[0m_is_empty\u001b[0m\u001b[0;34m:\u001b[0m\u001b[0;34m\u001b[0m\u001b[0;34m\u001b[0m\u001b[0m\n\u001b[1;32m     32\u001b[0m             \u001b[0mself\u001b[0m\u001b[0;34m.\u001b[0m\u001b[0mempty\u001b[0m\u001b[0;34m(\u001b[0m\u001b[0;34m)\u001b[0m\u001b[0;34m\u001b[0m\u001b[0;34m\u001b[0m\u001b[0m\n",
      "\u001b[0;32m/Library/Frameworks/Python.framework/Versions/3.8/lib/python3.8/site-packages/shapely/geometry/proxy.py\u001b[0m in \u001b[0;36mgtag\u001b[0;34m(self)\u001b[0m\n\u001b[1;32m     37\u001b[0m \u001b[0;34m\u001b[0m\u001b[0m\n\u001b[1;32m     38\u001b[0m     \u001b[0;32mdef\u001b[0m \u001b[0mgtag\u001b[0m\u001b[0;34m(\u001b[0m\u001b[0mself\u001b[0m\u001b[0;34m)\u001b[0m\u001b[0;34m:\u001b[0m\u001b[0;34m\u001b[0m\u001b[0;34m\u001b[0m\u001b[0m\n\u001b[0;32m---> 39\u001b[0;31m         \u001b[0;32mreturn\u001b[0m \u001b[0mhash\u001b[0m\u001b[0;34m(\u001b[0m\u001b[0mrepr\u001b[0m\u001b[0;34m(\u001b[0m\u001b[0mself\u001b[0m\u001b[0;34m.\u001b[0m\u001b[0mcontext\u001b[0m\u001b[0;34m)\u001b[0m\u001b[0;34m)\u001b[0m\u001b[0;34m\u001b[0m\u001b[0;34m\u001b[0m\u001b[0m\n\u001b[0m\u001b[1;32m     40\u001b[0m \u001b[0;34m\u001b[0m\u001b[0m\n\u001b[1;32m     41\u001b[0m \u001b[0;34m\u001b[0m\u001b[0m\n",
      "\u001b[0;31mKeyboardInterrupt\u001b[0m: "
     ]
    }
   ],
   "source": [
    "#Changing car crash data to have zone instead of lat/lon points\n",
    "import shapely.speedups\n",
    "shapely.speedups.enable()\n",
    "\n",
    "import fiona\n",
    "from shapely.geometry import shape, Point\n",
    "\n",
    "shapefile = fiona.open(\"fixed_taxi_zones.shp\")\n",
    "\n",
    "for i in range(1054):\n",
    "    for j in range(len(shapefile)):\n",
    "        shapefile_record = shapefile[j]\n",
    "        zone_id = shapefile_record['properties']['LocationID']\n",
    "\n",
    "    # Use Shapely to create the polygon\n",
    "        shape = shapely.geometry.asShape( shapefile_record['geometry'] )\n",
    "\n",
    "        checkpoint = shapely.geometry.Point(float(crash.iloc[i, 5]), float(crash.iloc[i,4])) # longitude, latitude\n",
    "\n",
    "        if shape.contains(checkpoint):\n",
    "            print(\"Found shape for point\" + str(point) + \"at zone \" + str(zone_id))\n",
    "            break"
   ]
  },
  {
   "cell_type": "code",
   "execution_count": 100,
   "id": "massive-alexandria",
   "metadata": {},
   "outputs": [
    {
     "data": {
      "text/plain": [
       "{'type': 'Feature',\n",
       " 'id': '0',\n",
       " 'properties': OrderedDict([('OBJECTID', 1),\n",
       "              ('Shape_Leng', 0.116357453189),\n",
       "              ('Shape_Area', 0.0007823067885),\n",
       "              ('zone', 'Newark Airport'),\n",
       "              ('LocationID', 1),\n",
       "              ('borough', 'EWR')]),\n",
       " 'geometry': {'type': 'Polygon',\n",
       "  'coordinates': [[(-74.18445299999996, 40.694996000000096),\n",
       "    (-74.18448899999999, 40.695095000000066),\n",
       "    (-74.18449799999996, 40.69518500000006),\n",
       "    (-74.18438099999997, 40.69587800000008),\n",
       "    (-74.18428199999994, 40.6962110000001),\n",
       "    (-74.18402099999997, 40.69707500000007),\n",
       "    (-74.18391299999996, 40.69750700000005),\n",
       "    (-74.18375099999997, 40.69779500000007),\n",
       "    (-74.18363399999998, 40.6983260000001),\n",
       "    (-74.18356199999994, 40.69845200000007),\n",
       "    (-74.18354399999998, 40.698560000000086),\n",
       "    (-74.18350799999996, 40.69870400000011),\n",
       "    (-74.18327399999998, 40.700090000000074),\n",
       "    (-74.18315699999994, 40.70121500000007),\n",
       "    (-74.18316599999997, 40.70238500000006),\n",
       "    (-74.18313899999998, 40.70262800000008),\n",
       "    (-74.18309399999998, 40.7028530000001),\n",
       "    (-74.18299499999995, 40.703159000000056),\n",
       "    (-74.18284199999994, 40.70346500000007),\n",
       "    (-74.18264399999998, 40.70373500000009),\n",
       "    (-74.18242799999996, 40.70395100000011),\n",
       "    (-74.18220299999996, 40.70414000000008),\n",
       "    (-74.18203199999994, 40.70425700000006),\n",
       "    (-74.18180699999994, 40.70439200000008),\n",
       "    (-74.18157299999996, 40.704500000000074),\n",
       "    (-74.18132099999997, 40.70460800000009),\n",
       "    (-74.18080799999996, 40.70478800000009),\n",
       "    (-74.179467, 40.70534600000011),\n",
       "    (-74.17887299999995, 40.70554400000006),\n",
       "    (-74.17831499999994, 40.70572400000006),\n",
       "    (-74.17776599999996, 40.705895000000076),\n",
       "    (-74.17709099999996, 40.70609300000009),\n",
       "    (-74.17699199999998, 40.70613800000009),\n",
       "    (-74.17689299999995, 40.706192000000065),\n",
       "    (-74.17664999999994, 40.70641700000008),\n",
       "    (-74.17642499999994, 40.70669600000009),\n",
       "    (-74.17628999999994, 40.70689400000007),\n",
       "    (-74.17608299999995, 40.70711000000009),\n",
       "    (-74.17599299999995, 40.707191000000115),\n",
       "    (-74.17589399999997, 40.70726300000008),\n",
       "    (-74.17565999999994, 40.70738000000007),\n",
       "    (-74.17538099999996, 40.70747000000009),\n",
       "    (-74.17515599999996, 40.7075150000001),\n",
       "    (-74.17475999999994, 40.70759600000013),\n",
       "    (-74.17417499999993, 40.707668000000105),\n",
       "    (-74.17388699999998, 40.707731000000116),\n",
       "    (-74.17347299999994, 40.70774900000006),\n",
       "    (-74.17275299999994, 40.7078030000001),\n",
       "    (-74.17188899999996, 40.707911000000045),\n",
       "    (-74.17163699999998, 40.707956000000074),\n",
       "    (-74.17133999999999, 40.70796500000009),\n",
       "    (-74.17120499999999, 40.707956000000074),\n",
       "    (-74.16994499999998, 40.707974000000064),\n",
       "    (-74.16888299999994, 40.70793800000009),\n",
       "    (-74.16681299999993, 40.707857000000075),\n",
       "    (-74.16442799999999, 40.707794000000064),\n",
       "    (-74.16401399999995, 40.7077760000001),\n",
       "    (-74.16233999999997, 40.70772200000007),\n",
       "    (-74.16081899999995, 40.70764100000011),\n",
       "    (-74.16057599999993, 40.70760500000008),\n",
       "    (-74.16033299999998, 40.70756900000008),\n",
       "    (-74.160063, 40.70748800000009),\n",
       "    (-74.15938799999998, 40.70726300000008),\n",
       "    (-74.15904599999999, 40.70714600000012),\n",
       "    (-74.15891999999997, 40.70711000000009),\n",
       "    (-74.15827199999995, 40.70687600000012),\n",
       "    (-74.15459099999998, 40.705652000000065),\n",
       "    (-74.15409599999998, 40.70544500000008),\n",
       "    (-74.15401499999997, 40.70538200000007),\n",
       "    (-74.15387999999996, 40.70532800000009),\n",
       "    (-74.15376299999997, 40.70540900000006),\n",
       "    (-74.15323199999995, 40.70524700000007),\n",
       "    (-74.15317799999997, 40.70531900000007),\n",
       "    (-74.15306999999996, 40.70528300000011),\n",
       "    (-74.15359199999995, 40.704374000000065),\n",
       "    (-74.15386199999995, 40.70384300000009),\n",
       "    (-74.15513999999996, 40.701557000000065),\n",
       "    (-74.15544599999998, 40.70108900000006),\n",
       "    (-74.15575199999995, 40.7006660000001),\n",
       "    (-74.15600399999994, 40.70026100000009),\n",
       "    (-74.15635499999996, 40.699757000000055),\n",
       "    (-74.15745299999998, 40.69809200000007),\n",
       "    (-74.15754299999998, 40.69793900000008),\n",
       "    (-74.15758799999998, 40.697813000000075),\n",
       "    (-74.15762399999994, 40.6976780000001),\n",
       "    (-74.15829899999994, 40.69670600000009),\n",
       "    (-74.15951399999994, 40.69488800000008),\n",
       "    (-74.15958599999993, 40.694762000000054),\n",
       "    (-74.16014399999995, 40.69410500000007),\n",
       "    (-74.16057599999993, 40.69322300000006),\n",
       "    (-74.16262799999998, 40.6902890000001),\n",
       "    (-74.16279899999995, 40.69002800000007),\n",
       "    (-74.16290699999996, 40.68987500000006),\n",
       "    (-74.16292499999997, 40.68987500000006),\n",
       "    (-74.16295199999996, 40.68987500000006),\n",
       "    (-74.16306899999995, 40.68989300000007),\n",
       "    (-74.16309599999994, 40.68992900000009),\n",
       "    (-74.16322199999996, 40.68998300000007),\n",
       "    (-74.16331199999996, 40.689992000000125),\n",
       "    (-74.16341099999994, 40.690001000000095),\n",
       "    (-74.16352799999999, 40.69001000000005),\n",
       "    (-74.16380699999996, 40.69004600000009),\n",
       "    (-74.16410399999995, 40.69008200000009),\n",
       "    (-74.16417599999994, 40.69008200000011),\n",
       "    (-74.16422999999998, 40.69005500000005),\n",
       "    (-74.16436499999998, 40.690037000000096),\n",
       "    (-74.16450899999995, 40.689983000000055),\n",
       "    (-74.16467099999994, 40.68988400000009),\n",
       "    (-74.16479699999996, 40.68975800000008),\n",
       "    (-74.16491399999995, 40.689587000000095),\n",
       "    (-74.16499499999998, 40.68938900000009),\n",
       "    (-74.16528299999999, 40.68891200000008),\n",
       "    (-74.16542699999997, 40.6887590000001),\n",
       "    (-74.16548099999994, 40.68863300000005),\n",
       "    (-74.16560699999997, 40.68842600000008),\n",
       "    (-74.16576899999995, 40.68803000000007),\n",
       "    (-74.16587699999997, 40.68787700000011),\n",
       "    (-74.16583199999997, 40.68758000000007),\n",
       "    (-74.16582299999999, 40.687490000000054),\n",
       "    (-74.16580499999998, 40.68715700000009),\n",
       "    (-74.16582299999999, 40.68704000000005),\n",
       "    (-74.16589499999998, 40.686842000000105),\n",
       "    (-74.16604799999999, 40.68655400000008),\n",
       "    (-74.16639899999996, 40.68602300000005),\n",
       "    (-74.16650699999997, 40.685888000000055),\n",
       "    (-74.16674099999994, 40.6854920000001),\n",
       "    (-74.16695699999997, 40.68523100000006),\n",
       "    (-74.16738899999996, 40.6845470000001),\n",
       "    (-74.16781199999997, 40.68394400000009),\n",
       "    (-74.16791099999995, 40.68379100000008),\n",
       "    (-74.16804599999995, 40.6836020000001),\n",
       "    (-74.16816299999994, 40.68347600000008),\n",
       "    (-74.16822599999995, 40.683350000000104),\n",
       "    (-74.16848699999997, 40.68299900000009),\n",
       "    (-74.16886499999998, 40.682396000000075),\n",
       "    (-74.16916199999997, 40.68200000000011),\n",
       "    (-74.16929699999997, 40.68178400000007),\n",
       "    (-74.16947699999997, 40.681559000000085),\n",
       "    (-74.16981899999996, 40.68101900000008),\n",
       "    (-74.16995399999996, 40.68087500000011),\n",
       "    (-74.17005299999994, 40.68066800000007),\n",
       "    (-74.17041299999994, 40.68015500000009),\n",
       "    (-74.17051199999997, 40.67999300000005),\n",
       "    (-74.17067399999996, 40.679651000000064),\n",
       "    (-74.17093499999999, 40.67929100000006),\n",
       "    (-74.17144799999994, 40.67847200000009),\n",
       "    (-74.17151999999999, 40.67838200000007),\n",
       "    (-74.17160999999999, 40.678256000000076),\n",
       "    (-74.17193399999996, 40.67782400000007),\n",
       "    (-74.17200599999995, 40.67773400000007),\n",
       "    (-74.17283399999997, 40.67656400000008),\n",
       "    (-74.17314899999997, 40.6761950000001),\n",
       "    (-74.17322999999999, 40.676078000000125),\n",
       "    (-74.17329299999994, 40.6760150000001),\n",
       "    (-74.17358999999993, 40.67571800000013),\n",
       "    (-74.17423799999995, 40.67493500000011),\n",
       "    (-74.17437299999995, 40.674818000000094),\n",
       "    (-74.17484999999994, 40.67432300000011),\n",
       "    (-74.17500299999995, 40.6741700000001),\n",
       "    (-74.17538999999995, 40.673756000000076),\n",
       "    (-74.17604699999998, 40.67304500000009),\n",
       "    (-74.17630799999995, 40.672766000000045),\n",
       "    (-74.17641599999996, 40.672622000000054),\n",
       "    (-74.17663199999998, 40.672397000000075),\n",
       "    (-74.17678499999994, 40.672181000000116),\n",
       "    (-74.17697399999997, 40.67193800000009),\n",
       "    (-74.17709099999996, 40.671785000000085),\n",
       "    (-74.17734299999995, 40.67156000000009),\n",
       "    (-74.17754999999994, 40.6714250000001),\n",
       "    (-74.17778399999997, 40.67131700000008),\n",
       "    (-74.17802699999999, 40.671209000000076),\n",
       "    (-74.17862999999994, 40.67103800000008),\n",
       "    (-74.17888199999999, 40.67100200000009),\n",
       "    (-74.17912499999994, 40.670993000000095),\n",
       "    (-74.17933199999999, 40.67101100000013),\n",
       "    (-74.17979099999997, 40.67115500000008),\n",
       "    (-74.17997999999994, 40.671209000000076),\n",
       "    (-74.18010599999997, 40.67126300000009),\n",
       "    (-74.18030399999998, 40.67129900000006),\n",
       "    (-74.18133899999998, 40.67170400000007),\n",
       "    (-74.18213999999996, 40.672028000000104),\n",
       "    (-74.18384999999995, 40.67264900000007),\n",
       "    (-74.18437199999994, 40.672910000000094),\n",
       "    (-74.18458799999996, 40.67302700000008),\n",
       "    (-74.18492099999997, 40.67327000000008),\n",
       "    (-74.18503799999996, 40.67336000000008),\n",
       "    (-74.18513699999994, 40.67345900000005),\n",
       "    (-74.18547899999999, 40.673909000000066),\n",
       "    (-74.18594699999994, 40.674665000000104),\n",
       "    (-74.18670299999997, 40.6757900000001),\n",
       "    (-74.18733299999997, 40.676744000000056),\n",
       "    (-74.18767499999996, 40.677293000000105),\n",
       "    (-74.18795399999995, 40.67761700000008),\n",
       "    (-74.18819699999995, 40.6779230000001),\n",
       "    (-74.18852099999998, 40.67848100000007),\n",
       "    (-74.18877299999997, 40.67885900000008),\n",
       "    (-74.18905199999995, 40.67933600000005),\n",
       "    (-74.18935799999997, 40.679759000000075),\n",
       "    (-74.18949299999997, 40.68009200000008),\n",
       "    (-74.18969999999996, 40.68079400000008),\n",
       "    (-74.18977199999995, 40.681136000000066),\n",
       "    (-74.189781, 40.68119900000006),\n",
       "    (-74.18983499999996, 40.68131600000007),\n",
       "    (-74.18991599999998, 40.681541000000074),\n",
       "    (-74.18996999999996, 40.6818020000001),\n",
       "    (-74.18999699999995, 40.68225200000008),\n",
       "    (-74.18999699999995, 40.682630000000124),\n",
       "    (-74.18996999999996, 40.682954000000095),\n",
       "    (-74.18998799999997, 40.68317900000009),\n",
       "    (-74.18995199999995, 40.68352100000007),\n",
       "    (-74.18993399999994, 40.68371000000011),\n",
       "    (-74.189871, 40.684079000000075),\n",
       "    (-74.189781, 40.684817000000116),\n",
       "    (-74.18976299999997, 40.68503300000007),\n",
       "    (-74.18962799999997, 40.686104000000114),\n",
       "    (-74.18955599999998, 40.68689600000007),\n",
       "    (-74.18951999999996, 40.6872020000001),\n",
       "    (-74.18947499999996, 40.687490000000054),\n",
       "    (-74.18939399999994, 40.68773300000007),\n",
       "    (-74.18939399999994, 40.68783200000009),\n",
       "    (-74.18941199999995, 40.687940000000054),\n",
       "    (-74.18940299999997, 40.68809300000006),\n",
       "    (-74.18934899999994, 40.688264000000075),\n",
       "    (-74.18922299999997, 40.688624000000104),\n",
       "    (-74.18898899999994, 40.68904700000011),\n",
       "    (-74.18870099999998, 40.68944300000006),\n",
       "    (-74.18779199999994, 40.690190000000065),\n",
       "    (-74.18723399999999, 40.69059500000006),\n",
       "    (-74.18636999999995, 40.69118900000011),\n",
       "    (-74.18591099999998, 40.69145000000008),\n",
       "    (-74.18563199999994, 40.691648000000086),\n",
       "    (-74.18445299999996, 40.694996000000096)]]}}"
      ]
     },
     "execution_count": 100,
     "metadata": {},
     "output_type": "execute_result"
    }
   ],
   "source": [
    "a = fiona.open(\"fixed_taxi_zones.shp\")\n",
    "a[0]"
   ]
  },
  {
   "cell_type": "code",
   "execution_count": 56,
   "id": "proof-reynolds",
   "metadata": {},
   "outputs": [],
   "source": [
    "import geopandas as gpd\n",
    "sf = gpd.read_file(\"../../Project 1/taxi_zones/taxi_zones.shp\")\n",
    "sf['geometry'] = sf['geometry'].to_crs(\"+proj=longlat +ellps=WGS84 +datum=WGS84 +no_defs\")\n",
    "sf.to_file(\"fixed_taxi_zones.shp\")"
   ]
  },
  {
   "cell_type": "code",
   "execution_count": 40,
   "id": "hindu-writing",
   "metadata": {},
   "outputs": [
    {
     "ename": "NameError",
     "evalue": "name 'spark' is not defined",
     "output_type": "error",
     "traceback": [
      "\u001b[0;31m---------------------------------------------------------------------------\u001b[0m",
      "\u001b[0;31mNameError\u001b[0m                                 Traceback (most recent call last)",
      "\u001b[0;32m<ipython-input-40-6cc64e20fe5d>\u001b[0m in \u001b[0;36m<module>\u001b[0;34m\u001b[0m\n\u001b[1;32m      5\u001b[0m \u001b[0;32mfrom\u001b[0m \u001b[0mpyspark\u001b[0m\u001b[0;34m.\u001b[0m\u001b[0msql\u001b[0m\u001b[0;34m.\u001b[0m\u001b[0mfunctions\u001b[0m \u001b[0;32mimport\u001b[0m \u001b[0mcol\u001b[0m\u001b[0;34m\u001b[0m\u001b[0;34m\u001b[0m\u001b[0m\n\u001b[1;32m      6\u001b[0m \u001b[0;34m\u001b[0m\u001b[0m\n\u001b[0;32m----> 7\u001b[0;31m \u001b[0mspark\u001b[0m\u001b[0;34m.\u001b[0m\u001b[0mconf\u001b[0m\u001b[0;34m.\u001b[0m\u001b[0mset\u001b[0m\u001b[0;34m(\u001b[0m\u001b[0;34m'spark.sql.execution.arrow.pyspark.enabled'\u001b[0m\u001b[0;34m,\u001b[0m \u001b[0;32mTrue\u001b[0m\u001b[0;34m)\u001b[0m\u001b[0;34m\u001b[0m\u001b[0;34m\u001b[0m\u001b[0m\n\u001b[0m\u001b[1;32m      8\u001b[0m \u001b[0;34m\u001b[0m\u001b[0m\n\u001b[1;32m      9\u001b[0m \u001b[0mints\u001b[0m \u001b[0;34m=\u001b[0m \u001b[0;34m(\u001b[0m\u001b[0;34m'VendorID'\u001b[0m\u001b[0;34m,\u001b[0m \u001b[0;34m'passenger_count'\u001b[0m\u001b[0;34m,\u001b[0m \u001b[0;34m'RateCodeID'\u001b[0m\u001b[0;34m,\u001b[0m \u001b[0;34m'RatecodeID'\u001b[0m\u001b[0;34m,\u001b[0m\u001b[0;34m'payment_type'\u001b[0m\u001b[0;34m,\u001b[0m\u001b[0;34m)\u001b[0m\u001b[0;34m\u001b[0m\u001b[0;34m\u001b[0m\u001b[0m\n",
      "\u001b[0;31mNameError\u001b[0m: name 'spark' is not defined"
     ]
    }
   ],
   "source": [
    "#setting schema\n",
    "import pyspark.sql.functions as F\n",
    "\n",
    "from pyspark.sql.types import *\n",
    "from pyspark.sql.functions import col\n",
    "\n",
    "spark.conf.set('spark.sql.execution.arrow.pyspark.enabled', True)\n",
    "\n",
    "ints = ('VendorID', 'passenger_count', 'RateCodeID', 'RatecodeID','payment_type',)\n",
    "doubles = ('trip_distance', 'fare_amount', 'extra', 'mta_tax', 'pickup_longitude', 'pickup_latitude', \n",
    "           'dropoff_longitude', 'dropoff_latitude','tip_amount', 'tolls_amount', \n",
    "           'improvement_surcharge', 'total_amount',)\n",
    "strings = ('store_and_fwd_flag',)\n",
    "dtimes = ('tpep_pickup_datetime', 'tpep_dropoff_datetime',)\n",
    "\n",
    "dtypes = {column: IntegerType() for column in ints}\n",
    "dtypes.update({column: DoubleType() for column in doubles})\n",
    "dtypes.update({column: StringType() for column in strings})\n",
    "dtypes.update({column: TimestampType() for column in dtimes})\n",
    "\n",
    "schema = StructType()\n",
    "\n",
    "for column in sdf.columns:\n",
    "    schema.add(column, # column name\n",
    "               dtypes[column], # data type\n",
    "               True # is nullable?\n",
    "              )"
   ]
  },
  {
   "cell_type": "code",
   "execution_count": 60,
   "id": "imposed-interest",
   "metadata": {},
   "outputs": [
    {
     "name": "stdout",
     "output_type": "stream",
     "text": [
      "root\n",
      " |-- VendorID: integer (nullable = true)\n",
      " |-- tpep_pickup_datetime: timestamp (nullable = true)\n",
      " |-- tpep_dropoff_datetime: timestamp (nullable = true)\n",
      " |-- passenger_count: integer (nullable = true)\n",
      " |-- trip_distance: double (nullable = true)\n",
      " |-- pickup_longitude: double (nullable = true)\n",
      " |-- pickup_latitude: double (nullable = true)\n",
      " |-- RateCodeID: integer (nullable = true)\n",
      " |-- store_and_fwd_flag: string (nullable = true)\n",
      " |-- dropoff_longitude: double (nullable = true)\n",
      " |-- dropoff_latitude: double (nullable = true)\n",
      " |-- payment_type: integer (nullable = true)\n",
      " |-- fare_amount: double (nullable = true)\n",
      " |-- extra: double (nullable = true)\n",
      " |-- mta_tax: double (nullable = true)\n",
      " |-- tip_amount: double (nullable = true)\n",
      " |-- tolls_amount: double (nullable = true)\n",
      " |-- improvement_surcharge: double (nullable = true)\n",
      " |-- total_amount: double (nullable = true)\n",
      "\n"
     ]
    }
   ],
   "source": [
    "sdf = spark.read.csv('../../MAST30034_Python/data/2015', header=True, schema=schema) \\\n",
    "    .withColumnRenamed(\"RatecodeID\",\"RateCodeID\") # rename the wrong column\n",
    "\n",
    "sdf.printSchema()"
   ]
  },
  {
   "cell_type": "code",
   "execution_count": 61,
   "id": "superb-showcase",
   "metadata": {},
   "outputs": [
    {
     "data": {
      "text/html": [
       "<table border='1'>\n",
       "<tr><th>VendorID</th><th>tpep_pickup_datetime</th><th>tpep_dropoff_datetime</th><th>passenger_count</th><th>trip_distance</th><th>pickup_longitude</th><th>pickup_latitude</th><th>RateCodeID</th><th>store_and_fwd_flag</th><th>dropoff_longitude</th><th>dropoff_latitude</th><th>payment_type</th><th>fare_amount</th><th>extra</th><th>mta_tax</th><th>tip_amount</th><th>tolls_amount</th><th>improvement_surcharge</th><th>total_amount</th></tr>\n",
       "<tr><td>1</td><td>2015-05-05 23:37:40</td><td>2015-05-05 23:45:41</td><td>1</td><td>2.0</td><td>-74.00167846679688</td><td>40.73931121826172</td><td>1</td><td>N</td><td>-73.9782943725586</td><td>40.75210952758789</td><td>2</td><td>8.5</td><td>0.5</td><td>0.5</td><td>0.0</td><td>0.0</td><td>0.3</td><td>9.8</td></tr>\n",
       "<tr><td>2</td><td>2015-05-05 23:37:40</td><td>2015-05-05 23:40:36</td><td>1</td><td>0.54</td><td>-73.93083953857422</td><td>40.744789123535156</td><td>1</td><td>N</td><td>-73.93751525878906</td><td>40.749359130859375</td><td>2</td><td>4.5</td><td>0.5</td><td>0.5</td><td>0.0</td><td>0.0</td><td>0.3</td><td>5.8</td></tr>\n",
       "<tr><td>2</td><td>2015-05-05 23:37:40</td><td>2015-05-05 23:44:03</td><td>3</td><td>2.1</td><td>-74.00141143798828</td><td>40.73108673095703</td><td>1</td><td>N</td><td>-73.98167419433594</td><td>40.75828170776367</td><td>2</td><td>8.0</td><td>0.5</td><td>0.5</td><td>0.0</td><td>0.0</td><td>0.3</td><td>9.3</td></tr>\n",
       "<tr><td>2</td><td>2015-05-05 23:37:40</td><td>2015-05-06 00:14:01</td><td>6</td><td>10.93</td><td>-73.97067260742188</td><td>40.75856018066406</td><td>1</td><td>N</td><td>-73.93376159667969</td><td>40.6705436706543</td><td>1</td><td>36.0</td><td>0.5</td><td>0.5</td><td>9.32</td><td>0.0</td><td>0.3</td><td>46.62</td></tr>\n",
       "<tr><td>2</td><td>2015-05-05 23:37:40</td><td>2015-05-05 23:46:03</td><td>5</td><td>0.93</td><td>-73.98673248291016</td><td>40.75587844848633</td><td>1</td><td>N</td><td>-73.99095916748047</td><td>40.74998092651367</td><td>1</td><td>7.0</td><td>0.5</td><td>0.5</td><td>2.49</td><td>0.0</td><td>0.3</td><td>10.79</td></tr>\n",
       "<tr><td>1</td><td>2015-05-05 23:37:41</td><td>2015-05-05 23:50:34</td><td>3</td><td>2.4</td><td>-73.98932647705078</td><td>40.75659942626953</td><td>1</td><td>N</td><td>-73.97958374023438</td><td>40.7353630065918</td><td>2</td><td>11.0</td><td>0.5</td><td>0.5</td><td>0.0</td><td>0.0</td><td>0.3</td><td>12.3</td></tr>\n",
       "<tr><td>1</td><td>2015-05-05 23:37:42</td><td>2015-05-05 23:41:51</td><td>1</td><td>1.3</td><td>-73.9555435180664</td><td>40.7767219543457</td><td>1</td><td>N</td><td>-73.94133758544922</td><td>40.78812026977539</td><td>2</td><td>6.0</td><td>0.5</td><td>0.5</td><td>0.0</td><td>0.0</td><td>0.3</td><td>7.3</td></tr>\n",
       "<tr><td>2</td><td>2015-05-05 23:37:42</td><td>2015-05-05 23:53:25</td><td>1</td><td>3.7</td><td>-73.9922103881836</td><td>40.72918701171875</td><td>1</td><td>N</td><td>-73.96039581298828</td><td>40.775630950927734</td><td>1</td><td>15.0</td><td>0.5</td><td>0.5</td><td>3.26</td><td>0.0</td><td>0.3</td><td>19.56</td></tr>\n",
       "<tr><td>2</td><td>2015-05-05 23:37:42</td><td>2015-05-05 23:52:53</td><td>2</td><td>7.84</td><td>-73.98773956298828</td><td>40.74085998535156</td><td>1</td><td>N</td><td>-73.8731689453125</td><td>40.72309112548828</td><td>1</td><td>23.5</td><td>0.5</td><td>0.5</td><td>6.07</td><td>5.54</td><td>0.3</td><td>36.41</td></tr>\n",
       "<tr><td>2</td><td>2015-05-05 23:37:42</td><td>2015-05-05 23:48:25</td><td>3</td><td>2.36</td><td>-73.98799896240234</td><td>40.743995666503906</td><td>1</td><td>N</td><td>-73.99852752685547</td><td>40.717002868652344</td><td>2</td><td>10.0</td><td>0.5</td><td>0.5</td><td>0.0</td><td>0.0</td><td>0.3</td><td>11.3</td></tr>\n",
       "</table>\n"
      ],
      "text/plain": [
       "+--------+--------------------+---------------------+---------------+-------------+------------------+------------------+----------+------------------+------------------+------------------+------------+-----------+-----+-------+----------+------------+---------------------+------------+\n",
       "|VendorID|tpep_pickup_datetime|tpep_dropoff_datetime|passenger_count|trip_distance|  pickup_longitude|   pickup_latitude|RateCodeID|store_and_fwd_flag| dropoff_longitude|  dropoff_latitude|payment_type|fare_amount|extra|mta_tax|tip_amount|tolls_amount|improvement_surcharge|total_amount|\n",
       "+--------+--------------------+---------------------+---------------+-------------+------------------+------------------+----------+------------------+------------------+------------------+------------+-----------+-----+-------+----------+------------+---------------------+------------+\n",
       "|       1| 2015-05-05 23:37:40|  2015-05-05 23:45:41|              1|          2.0|-74.00167846679688| 40.73931121826172|         1|                 N| -73.9782943725586| 40.75210952758789|           2|        8.5|  0.5|    0.5|       0.0|         0.0|                  0.3|         9.8|\n",
       "|       2| 2015-05-05 23:37:40|  2015-05-05 23:40:36|              1|         0.54|-73.93083953857422|40.744789123535156|         1|                 N|-73.93751525878906|40.749359130859375|           2|        4.5|  0.5|    0.5|       0.0|         0.0|                  0.3|         5.8|\n",
       "|       2| 2015-05-05 23:37:40|  2015-05-05 23:44:03|              3|          2.1|-74.00141143798828| 40.73108673095703|         1|                 N|-73.98167419433594| 40.75828170776367|           2|        8.0|  0.5|    0.5|       0.0|         0.0|                  0.3|         9.3|\n",
       "|       2| 2015-05-05 23:37:40|  2015-05-06 00:14:01|              6|        10.93|-73.97067260742188| 40.75856018066406|         1|                 N|-73.93376159667969|  40.6705436706543|           1|       36.0|  0.5|    0.5|      9.32|         0.0|                  0.3|       46.62|\n",
       "|       2| 2015-05-05 23:37:40|  2015-05-05 23:46:03|              5|         0.93|-73.98673248291016| 40.75587844848633|         1|                 N|-73.99095916748047| 40.74998092651367|           1|        7.0|  0.5|    0.5|      2.49|         0.0|                  0.3|       10.79|\n",
       "|       1| 2015-05-05 23:37:41|  2015-05-05 23:50:34|              3|          2.4|-73.98932647705078| 40.75659942626953|         1|                 N|-73.97958374023438|  40.7353630065918|           2|       11.0|  0.5|    0.5|       0.0|         0.0|                  0.3|        12.3|\n",
       "|       1| 2015-05-05 23:37:42|  2015-05-05 23:41:51|              1|          1.3| -73.9555435180664|  40.7767219543457|         1|                 N|-73.94133758544922| 40.78812026977539|           2|        6.0|  0.5|    0.5|       0.0|         0.0|                  0.3|         7.3|\n",
       "|       2| 2015-05-05 23:37:42|  2015-05-05 23:53:25|              1|          3.7| -73.9922103881836| 40.72918701171875|         1|                 N|-73.96039581298828|40.775630950927734|           1|       15.0|  0.5|    0.5|      3.26|         0.0|                  0.3|       19.56|\n",
       "|       2| 2015-05-05 23:37:42|  2015-05-05 23:52:53|              2|         7.84|-73.98773956298828| 40.74085998535156|         1|                 N| -73.8731689453125| 40.72309112548828|           1|       23.5|  0.5|    0.5|      6.07|        5.54|                  0.3|       36.41|\n",
       "|       2| 2015-05-05 23:37:42|  2015-05-05 23:48:25|              3|         2.36|-73.98799896240234|40.743995666503906|         1|                 N|-73.99852752685547|40.717002868652344|           2|       10.0|  0.5|    0.5|       0.0|         0.0|                  0.3|        11.3|\n",
       "+--------+--------------------+---------------------+---------------+-------------+------------------+------------------+----------+------------------+------------------+------------------+------------+-----------+-----+-------+----------+------------+---------------------+------------+"
      ]
     },
     "execution_count": 61,
     "metadata": {},
     "output_type": "execute_result"
    }
   ],
   "source": [
    "spark.conf.set('spark.sql.repl.eagerEval.enabled', True)\n",
    "sdf.limit(10)"
   ]
  },
  {
   "cell_type": "code",
   "execution_count": 92,
   "id": "random-colleague",
   "metadata": {},
   "outputs": [
    {
     "data": {
      "text/html": [
       "<table border='1'>\n",
       "<tr><th>pickup_time</th><th>dropoff_time</th><th>passenger_count</th><th>trip_distance</th><th>pickup_longitude</th><th>pickup_latitude</th><th>dropoff_longitude</th><th>dropoff_latitude</th><th>fare_amount</th><th>extra</th><th>mta_tax</th><th>tolls_amount</th><th>improvement_surcharge</th><th>cost</th><th>pickup_coord</th><th>dropoff_coord</th><th>approx_distance</th></tr>\n",
       "<tr><td>2015-05-05 23:37:40</td><td>2015-05-05 23:45:41</td><td>1</td><td>2.0</td><td>-74.00167846679688</td><td>40.73931121826172</td><td>-73.9782943725586</td><td>40.75210952758789</td><td>8.5</td><td>0.5</td><td>0.5</td><td>0.0</td><td>0.3</td><td>9.8</td><td>{-74.001678466796...</td><td>{-73.978294372558...</td><td>1.6339881624135753</td></tr>\n",
       "<tr><td>2015-05-05 23:37:40</td><td>2015-05-05 23:40:36</td><td>1</td><td>0.54</td><td>-73.93083953857422</td><td>40.744789123535156</td><td>-73.93751525878906</td><td>40.749359130859375</td><td>4.5</td><td>0.5</td><td>0.5</td><td>0.0</td><td>0.3</td><td>5.8</td><td>{-73.930839538574...</td><td>{-73.937515258789...</td><td>0.4694519190253022</td></tr>\n",
       "<tr><td>2015-05-05 23:37:40</td><td>2015-05-05 23:44:03</td><td>3</td><td>2.1</td><td>-74.00141143798828</td><td>40.73108673095703</td><td>-73.98167419433594</td><td>40.75828170776367</td><td>8.0</td><td>0.5</td><td>0.5</td><td>0.0</td><td>0.3</td><td>9.3</td><td>{-74.001411437988...</td><td>{-73.981674194335...</td><td>1.4588440445768487</td></tr>\n",
       "<tr><td>2015-05-05 23:37:40</td><td>2015-05-06 00:14:01</td><td>6</td><td>10.93</td><td>-73.97067260742188</td><td>40.75856018066406</td><td>-73.93376159667969</td><td>40.6705436706543</td><td>36.0</td><td>0.5</td><td>0.5</td><td>0.0</td><td>0.3</td><td>37.3</td><td>{-73.970672607421...</td><td>{-73.933761596679...</td><td>3.0545402962157318</td></tr>\n",
       "<tr><td>2015-05-05 23:37:40</td><td>2015-05-05 23:46:03</td><td>5</td><td>0.93</td><td>-73.98673248291016</td><td>40.75587844848633</td><td>-73.99095916748047</td><td>40.74998092651367</td><td>7.0</td><td>0.5</td><td>0.5</td><td>0.0</td><td>0.3</td><td>8.3</td><td>{-73.986732482910...</td><td>{-73.990959167480...</td><td>0.31291679750135426</td></tr>\n",
       "<tr><td>2015-05-05 23:37:41</td><td>2015-05-05 23:50:34</td><td>3</td><td>2.4</td><td>-73.98932647705078</td><td>40.75659942626953</td><td>-73.97958374023438</td><td>40.7353630065918</td><td>11.0</td><td>0.5</td><td>0.5</td><td>0.0</td><td>0.3</td><td>12.3</td><td>{-73.989326477050...</td><td>{-73.979583740234...</td><td>0.7855086251591178</td></tr>\n",
       "<tr><td>2015-05-05 23:37:42</td><td>2015-05-05 23:41:51</td><td>1</td><td>1.3</td><td>-73.9555435180664</td><td>40.7767219543457</td><td>-73.94133758544922</td><td>40.78812026977539</td><td>6.0</td><td>0.5</td><td>0.5</td><td>0.0</td><td>0.3</td><td>7.3</td><td>{-73.955543518066...</td><td>{-73.941337585449...</td><td>1.005400104310164</td></tr>\n",
       "<tr><td>2015-05-05 23:37:42</td><td>2015-05-05 23:53:25</td><td>1</td><td>3.7</td><td>-73.9922103881836</td><td>40.72918701171875</td><td>-73.96039581298828</td><td>40.775630950927734</td><td>15.0</td><td>0.5</td><td>0.5</td><td>0.0</td><td>0.3</td><td>16.3</td><td>{-73.992210388183...</td><td>{-73.960395812988...</td><td>2.3699337492187142</td></tr>\n",
       "<tr><td>2015-05-05 23:37:42</td><td>2015-05-05 23:52:53</td><td>2</td><td>7.84</td><td>-73.98773956298828</td><td>40.74085998535156</td><td>-73.8731689453125</td><td>40.72309112548828</td><td>23.5</td><td>0.5</td><td>0.5</td><td>5.54</td><td>0.3</td><td>30.34</td><td>{-73.987739562988...</td><td>{-73.873168945312...</td><td>7.923353440564057</td></tr>\n",
       "<tr><td>2015-05-05 23:37:42</td><td>2015-05-05 23:48:25</td><td>3</td><td>2.36</td><td>-73.98799896240234</td><td>40.743995666503906</td><td>-73.99852752685547</td><td>40.717002868652344</td><td>10.0</td><td>0.5</td><td>0.5</td><td>0.0</td><td>0.3</td><td>11.3</td><td>{-73.987998962402...</td><td>{-73.998527526855...</td><td>0.8908830375499545</td></tr>\n",
       "<tr><td>2015-05-05 23:37:42</td><td>2015-05-05 23:41:37</td><td>1</td><td>1.35</td><td>-73.97103881835938</td><td>40.757938385009766</td><td>-73.98065185546875</td><td>40.74224853515625</td><td>6.0</td><td>0.5</td><td>0.5</td><td>0.0</td><td>0.3</td><td>7.3</td><td>{-73.971038818359...</td><td>{-73.980651855468...</td><td>0.7284958093126642</td></tr>\n",
       "<tr><td>2015-05-05 23:37:43</td><td>2015-05-05 23:42:23</td><td>1</td><td>1.3</td><td>-73.97806549072266</td><td>40.72515869140625</td><td>-73.97891998291016</td><td>40.713619232177734</td><td>6.0</td><td>0.5</td><td>0.5</td><td>0.0</td><td>0.3</td><td>7.3</td><td>{-73.978065490722...</td><td>{-73.978919982910...</td><td>0.2278356372717261</td></tr>\n",
       "<tr><td>2015-05-05 23:37:43</td><td>2015-05-05 23:49:51</td><td>2</td><td>4.7</td><td>-73.97650146484375</td><td>40.74988555908203</td><td>-74.00616455078125</td><td>40.70794677734375</td><td>15.5</td><td>0.5</td><td>0.5</td><td>0.0</td><td>0.3</td><td>16.8</td><td>{-73.976501464843...</td><td>{-74.006164550781...</td><td>2.199806136674883</td></tr>\n",
       "<tr><td>2015-05-05 23:37:43</td><td>2015-05-05 23:50:24</td><td>1</td><td>2.2</td><td>-73.95781707763672</td><td>40.71780014038086</td><td>-73.9320068359375</td><td>40.70644760131836</td><td>10.5</td><td>0.5</td><td>0.5</td><td>0.0</td><td>0.3</td><td>11.8</td><td>{-73.957817077636...</td><td>{-73.932006835937...</td><td>1.796460587409308</td></tr>\n",
       "<tr><td>2015-05-05 23:37:43</td><td>2015-05-05 23:45:51</td><td>2</td><td>2.2</td><td>-73.96894836425781</td><td>40.79884719848633</td><td>-73.98978424072266</td><td>40.77588653564453</td><td>9.0</td><td>0.5</td><td>0.5</td><td>0.0</td><td>0.3</td><td>10.3</td><td>{-73.968948364257...</td><td>{-73.989784240722...</td><td>1.5047250993762293</td></tr>\n",
       "<tr><td>2015-05-05 23:37:43</td><td>2015-05-05 23:50:33</td><td>3</td><td>3.59</td><td>-73.98811340332031</td><td>40.73214340209961</td><td>-73.9635238647461</td><td>40.774356842041016</td><td>13.0</td><td>0.5</td><td>0.5</td><td>0.0</td><td>0.3</td><td>14.3</td><td>{-73.988113403320...</td><td>{-73.963523864746...</td><td>1.880088745081906</td></tr>\n",
       "<tr><td>2015-05-05 23:37:43</td><td>2015-05-05 23:38:46</td><td>1</td><td>0.0</td><td>0.0</td><td>0.0</td><td>0.0</td><td>0.0</td><td>50.0</td><td>0.0</td><td>0.5</td><td>0.0</td><td>0.3</td><td>50.8</td><td>{0.0, 0.0}</td><td>{0.0, 0.0}</td><td>0.0</td></tr>\n",
       "<tr><td>2015-05-05 23:37:43</td><td>2015-05-05 23:38:46</td><td>1</td><td>0.0</td><td>0.0</td><td>0.0</td><td>0.0</td><td>0.0</td><td>-50.0</td><td>0.0</td><td>-0.5</td><td>0.0</td><td>-0.3</td><td>-50.8</td><td>{0.0, 0.0}</td><td>{0.0, 0.0}</td><td>0.0</td></tr>\n",
       "<tr><td>2015-05-05 23:37:43</td><td>2015-05-05 23:51:22</td><td>1</td><td>2.5</td><td>-73.97169494628906</td><td>40.75455093383789</td><td>-73.94957733154297</td><td>40.785343170166016</td><td>12.5</td><td>0.5</td><td>0.5</td><td>0.0</td><td>0.3</td><td>13.8</td><td>{-73.971694946289...</td><td>{-73.949577331542...</td><td>1.6373391457534223</td></tr>\n",
       "<tr><td>2015-05-05 23:37:44</td><td>2015-05-05 23:57:01</td><td>2</td><td>2.8</td><td>-73.9889144897461</td><td>40.718971252441406</td><td>-73.99418640136719</td><td>40.70323944091797</td><td>14.0</td><td>0.5</td><td>0.5</td><td>0.0</td><td>0.3</td><td>15.3</td><td>{-73.988914489746...</td><td>{-73.994186401367...</td><td>0.47173918527751857</td></tr>\n",
       "</table>\n"
      ],
      "text/plain": [
       "+-------------------+-------------------+---------------+-------------+------------------+------------------+------------------+------------------+-----------+-----+-------+------------+---------------------+-----+--------------------+--------------------+-------------------+\n",
       "|        pickup_time|       dropoff_time|passenger_count|trip_distance|  pickup_longitude|   pickup_latitude| dropoff_longitude|  dropoff_latitude|fare_amount|extra|mta_tax|tolls_amount|improvement_surcharge| cost|        pickup_coord|       dropoff_coord|    approx_distance|\n",
       "+-------------------+-------------------+---------------+-------------+------------------+------------------+------------------+------------------+-----------+-----+-------+------------+---------------------+-----+--------------------+--------------------+-------------------+\n",
       "|2015-05-05 23:37:40|2015-05-05 23:45:41|              1|          2.0|-74.00167846679688| 40.73931121826172| -73.9782943725586| 40.75210952758789|        8.5|  0.5|    0.5|         0.0|                  0.3|  9.8|{-74.001678466796...|{-73.978294372558...| 1.6339881624135753|\n",
       "|2015-05-05 23:37:40|2015-05-05 23:40:36|              1|         0.54|-73.93083953857422|40.744789123535156|-73.93751525878906|40.749359130859375|        4.5|  0.5|    0.5|         0.0|                  0.3|  5.8|{-73.930839538574...|{-73.937515258789...| 0.4694519190253022|\n",
       "|2015-05-05 23:37:40|2015-05-05 23:44:03|              3|          2.1|-74.00141143798828| 40.73108673095703|-73.98167419433594| 40.75828170776367|        8.0|  0.5|    0.5|         0.0|                  0.3|  9.3|{-74.001411437988...|{-73.981674194335...| 1.4588440445768487|\n",
       "|2015-05-05 23:37:40|2015-05-06 00:14:01|              6|        10.93|-73.97067260742188| 40.75856018066406|-73.93376159667969|  40.6705436706543|       36.0|  0.5|    0.5|         0.0|                  0.3| 37.3|{-73.970672607421...|{-73.933761596679...| 3.0545402962157318|\n",
       "|2015-05-05 23:37:40|2015-05-05 23:46:03|              5|         0.93|-73.98673248291016| 40.75587844848633|-73.99095916748047| 40.74998092651367|        7.0|  0.5|    0.5|         0.0|                  0.3|  8.3|{-73.986732482910...|{-73.990959167480...|0.31291679750135426|\n",
       "|2015-05-05 23:37:41|2015-05-05 23:50:34|              3|          2.4|-73.98932647705078| 40.75659942626953|-73.97958374023438|  40.7353630065918|       11.0|  0.5|    0.5|         0.0|                  0.3| 12.3|{-73.989326477050...|{-73.979583740234...| 0.7855086251591178|\n",
       "|2015-05-05 23:37:42|2015-05-05 23:41:51|              1|          1.3| -73.9555435180664|  40.7767219543457|-73.94133758544922| 40.78812026977539|        6.0|  0.5|    0.5|         0.0|                  0.3|  7.3|{-73.955543518066...|{-73.941337585449...|  1.005400104310164|\n",
       "|2015-05-05 23:37:42|2015-05-05 23:53:25|              1|          3.7| -73.9922103881836| 40.72918701171875|-73.96039581298828|40.775630950927734|       15.0|  0.5|    0.5|         0.0|                  0.3| 16.3|{-73.992210388183...|{-73.960395812988...| 2.3699337492187142|\n",
       "|2015-05-05 23:37:42|2015-05-05 23:52:53|              2|         7.84|-73.98773956298828| 40.74085998535156| -73.8731689453125| 40.72309112548828|       23.5|  0.5|    0.5|        5.54|                  0.3|30.34|{-73.987739562988...|{-73.873168945312...|  7.923353440564057|\n",
       "|2015-05-05 23:37:42|2015-05-05 23:48:25|              3|         2.36|-73.98799896240234|40.743995666503906|-73.99852752685547|40.717002868652344|       10.0|  0.5|    0.5|         0.0|                  0.3| 11.3|{-73.987998962402...|{-73.998527526855...| 0.8908830375499545|\n",
       "|2015-05-05 23:37:42|2015-05-05 23:41:37|              1|         1.35|-73.97103881835938|40.757938385009766|-73.98065185546875| 40.74224853515625|        6.0|  0.5|    0.5|         0.0|                  0.3|  7.3|{-73.971038818359...|{-73.980651855468...| 0.7284958093126642|\n",
       "|2015-05-05 23:37:43|2015-05-05 23:42:23|              1|          1.3|-73.97806549072266| 40.72515869140625|-73.97891998291016|40.713619232177734|        6.0|  0.5|    0.5|         0.0|                  0.3|  7.3|{-73.978065490722...|{-73.978919982910...| 0.2278356372717261|\n",
       "|2015-05-05 23:37:43|2015-05-05 23:49:51|              2|          4.7|-73.97650146484375| 40.74988555908203|-74.00616455078125| 40.70794677734375|       15.5|  0.5|    0.5|         0.0|                  0.3| 16.8|{-73.976501464843...|{-74.006164550781...|  2.199806136674883|\n",
       "|2015-05-05 23:37:43|2015-05-05 23:50:24|              1|          2.2|-73.95781707763672| 40.71780014038086| -73.9320068359375| 40.70644760131836|       10.5|  0.5|    0.5|         0.0|                  0.3| 11.8|{-73.957817077636...|{-73.932006835937...|  1.796460587409308|\n",
       "|2015-05-05 23:37:43|2015-05-05 23:45:51|              2|          2.2|-73.96894836425781| 40.79884719848633|-73.98978424072266| 40.77588653564453|        9.0|  0.5|    0.5|         0.0|                  0.3| 10.3|{-73.968948364257...|{-73.989784240722...| 1.5047250993762293|\n",
       "|2015-05-05 23:37:43|2015-05-05 23:50:33|              3|         3.59|-73.98811340332031| 40.73214340209961| -73.9635238647461|40.774356842041016|       13.0|  0.5|    0.5|         0.0|                  0.3| 14.3|{-73.988113403320...|{-73.963523864746...|  1.880088745081906|\n",
       "|2015-05-05 23:37:43|2015-05-05 23:38:46|              1|          0.0|               0.0|               0.0|               0.0|               0.0|       50.0|  0.0|    0.5|         0.0|                  0.3| 50.8|          {0.0, 0.0}|          {0.0, 0.0}|                0.0|\n",
       "|2015-05-05 23:37:43|2015-05-05 23:38:46|              1|          0.0|               0.0|               0.0|               0.0|               0.0|      -50.0|  0.0|   -0.5|         0.0|                 -0.3|-50.8|          {0.0, 0.0}|          {0.0, 0.0}|                0.0|\n",
       "|2015-05-05 23:37:43|2015-05-05 23:51:22|              1|          2.5|-73.97169494628906| 40.75455093383789|-73.94957733154297|40.785343170166016|       12.5|  0.5|    0.5|         0.0|                  0.3| 13.8|{-73.971694946289...|{-73.949577331542...| 1.6373391457534223|\n",
       "|2015-05-05 23:37:44|2015-05-05 23:57:01|              2|          2.8| -73.9889144897461|40.718971252441406|-73.99418640136719| 40.70323944091797|       14.0|  0.5|    0.5|         0.0|                  0.3| 15.3|{-73.988914489746...|{-73.994186401367...|0.47173918527751857|\n",
       "+-------------------+-------------------+---------------+-------------+------------------+------------------+------------------+------------------+-----------+-----+-------+------------+---------------------+-----+--------------------+--------------------+-------------------+"
      ]
     },
     "execution_count": 92,
     "metadata": {},
     "output_type": "execute_result"
    }
   ],
   "source": [
    "#Dropping irrelevant columns\n",
    "#Rationale is to only have the data available to a user before their trip - e.g. don't know exact trip dist, rate_code ID etc.\n",
    "sdf = sdf.drop(\"RateCodeID\").drop(\"store_and_fwd_flag\").drop(\"VendorID\").drop(\"payment_type\")\\\n",
    "    .drop(\"tip_amount\").drop(\"total_amount\")\n",
    "sdf = sdf.withColumnRenamed('tpep_pickup_datetime', 'pickup_time')\\\n",
    "    .withColumnRenamed('tpep_dropoff_datetime', 'dropoff_time')\n",
    "\n",
    "#Create cost column --> total amount minus tip amount, don't want to try predict the tip\n",
    "sdf = sdf.withColumn(\"cost\", col(\"fare_amount\") + col(\"extra\") + col(\"mta_tax\") + col(\"tolls_amount\") + col(\"improvement_surcharge\"))\n",
    "\n",
    "#Drop other cost columns\n",
    "#sdf = sdf.drop(\"fare_amount\").drop(\"extra\").drop(\"mta_tax\").drop(\"tolls_amount\").drop(\"improvement_surcharge\")\n",
    "\n",
    "#Create lat/lon pair for pickup and dropoff, to ease computation of approx distance\n",
    "from pyspark.sql.functions import struct\n",
    "\n",
    "sdf = sdf.withColumn(\"pickup_coord\", struct(sdf.pickup_longitude, sdf.pickup_latitude))\\\n",
    "    .withColumn(\"dropoff_coord\", struct(sdf.dropoff_longitude, sdf.dropoff_latitude))\n",
    "\n",
    "sdf.limit(20)"
   ]
  },
  {
   "cell_type": "code",
   "execution_count": 93,
   "id": "engaging-opportunity",
   "metadata": {},
   "outputs": [
    {
     "data": {
      "text/plain": [
       "1.6339881624135753"
      ]
     },
     "execution_count": 93,
     "metadata": {},
     "output_type": "execute_result"
    }
   ],
   "source": [
    "#Approximate trip distance --> user should know their pickup and dropoff points (could be improved with actual\n",
    "# gps distance)\n",
    "import geopy.distance\n",
    "from pyspark.sql.functions import udf\n",
    "import math\n",
    "\n",
    "def distance(origin, destination):\n",
    "    \"\"\"\n",
    "    Calculate the Haversine distance.\n",
    "\n",
    "    Parameters\n",
    "    ----------\n",
    "    origin : tuple of float\n",
    "        (lat, long)\n",
    "    destination : tuple of float\n",
    "        (lat, long)\n",
    "\n",
    "    Returns\n",
    "    -------\n",
    "    distance_in_mi : float\n",
    "\n",
    "    Examples\n",
    "    --------\n",
    "    \"\"\"\n",
    "    lat1, lon1 = origin\n",
    "    lat2, lon2 = destination\n",
    "    radius = 6371  # km\n",
    "\n",
    "    dlat = math.radians(lat2 - lat1)\n",
    "    dlon = math.radians(lon2 - lon1)\n",
    "    a = (math.sin(dlat / 2) * math.sin(dlat / 2) +\n",
    "         math.cos(math.radians(lat1)) * math.cos(math.radians(lat2)) *\n",
    "         math.sin(dlon / 2) * math.sin(dlon / 2))\n",
    "    c = 2 * math.atan2(math.sqrt(a), math.sqrt(1 - a))\n",
    "    d = radius * c\n",
    "\n",
    "    return d * 0.621371\n",
    "\n",
    "\n",
    "distance_udf = udf(distance)\n",
    "\n",
    "coord1 = (-74.00167846679688, 40.73931121826172)\n",
    "coord2 = (-73.9782943725586, 40.75210952758789)\n",
    "\n",
    "distance(coord1, coord2)"
   ]
  },
  {
   "cell_type": "code",
   "execution_count": 94,
   "id": "announced-eclipse",
   "metadata": {},
   "outputs": [],
   "source": [
    "sdf = sdf.withColumn(\"approx_distance\", distance_udf(col(\"pickup_coord\"), col(\"dropoff_coord\")))"
   ]
  },
  {
   "cell_type": "code",
   "execution_count": 96,
   "id": "friendly-remedy",
   "metadata": {},
   "outputs": [],
   "source": [
    "#Drop invalid trips\n",
    "\n",
    "sdf = sdf.filter((sdf.pickup_latitude != 0) & (sdf.pickup_longitude != 0) & \\\n",
    "                 (sdf.dropoff_latitude != 0) & (sdf.dropoff_longitude != 0) &\\\n",
    "                (sdf.cost > 0))"
   ]
  },
  {
   "cell_type": "code",
   "execution_count": 97,
   "id": "advance-freeware",
   "metadata": {},
   "outputs": [
    {
     "data": {
      "text/html": [
       "<table border='1'>\n",
       "<tr><th>pickup_time</th><th>dropoff_time</th><th>passenger_count</th><th>trip_distance</th><th>pickup_longitude</th><th>pickup_latitude</th><th>dropoff_longitude</th><th>dropoff_latitude</th><th>fare_amount</th><th>extra</th><th>mta_tax</th><th>tolls_amount</th><th>improvement_surcharge</th><th>cost</th><th>pickup_coord</th><th>dropoff_coord</th><th>approx_distance</th></tr>\n",
       "<tr><td>2015-05-05 23:37:40</td><td>2015-05-05 23:45:41</td><td>1</td><td>2.0</td><td>-74.00167846679688</td><td>40.73931121826172</td><td>-73.9782943725586</td><td>40.75210952758789</td><td>8.5</td><td>0.5</td><td>0.5</td><td>0.0</td><td>0.3</td><td>9.8</td><td>{-74.001678466796...</td><td>{-73.978294372558...</td><td>1.6339881624135753</td></tr>\n",
       "<tr><td>2015-05-05 23:37:40</td><td>2015-05-05 23:40:36</td><td>1</td><td>0.54</td><td>-73.93083953857422</td><td>40.744789123535156</td><td>-73.93751525878906</td><td>40.749359130859375</td><td>4.5</td><td>0.5</td><td>0.5</td><td>0.0</td><td>0.3</td><td>5.8</td><td>{-73.930839538574...</td><td>{-73.937515258789...</td><td>0.4694519190253022</td></tr>\n",
       "<tr><td>2015-05-05 23:37:40</td><td>2015-05-05 23:44:03</td><td>3</td><td>2.1</td><td>-74.00141143798828</td><td>40.73108673095703</td><td>-73.98167419433594</td><td>40.75828170776367</td><td>8.0</td><td>0.5</td><td>0.5</td><td>0.0</td><td>0.3</td><td>9.3</td><td>{-74.001411437988...</td><td>{-73.981674194335...</td><td>1.4588440445768487</td></tr>\n",
       "<tr><td>2015-05-05 23:37:40</td><td>2015-05-06 00:14:01</td><td>6</td><td>10.93</td><td>-73.97067260742188</td><td>40.75856018066406</td><td>-73.93376159667969</td><td>40.6705436706543</td><td>36.0</td><td>0.5</td><td>0.5</td><td>0.0</td><td>0.3</td><td>37.3</td><td>{-73.970672607421...</td><td>{-73.933761596679...</td><td>3.0545402962157318</td></tr>\n",
       "<tr><td>2015-05-05 23:37:40</td><td>2015-05-05 23:46:03</td><td>5</td><td>0.93</td><td>-73.98673248291016</td><td>40.75587844848633</td><td>-73.99095916748047</td><td>40.74998092651367</td><td>7.0</td><td>0.5</td><td>0.5</td><td>0.0</td><td>0.3</td><td>8.3</td><td>{-73.986732482910...</td><td>{-73.990959167480...</td><td>0.31291679750135426</td></tr>\n",
       "<tr><td>2015-05-05 23:37:41</td><td>2015-05-05 23:50:34</td><td>3</td><td>2.4</td><td>-73.98932647705078</td><td>40.75659942626953</td><td>-73.97958374023438</td><td>40.7353630065918</td><td>11.0</td><td>0.5</td><td>0.5</td><td>0.0</td><td>0.3</td><td>12.3</td><td>{-73.989326477050...</td><td>{-73.979583740234...</td><td>0.7855086251591178</td></tr>\n",
       "<tr><td>2015-05-05 23:37:42</td><td>2015-05-05 23:41:51</td><td>1</td><td>1.3</td><td>-73.9555435180664</td><td>40.7767219543457</td><td>-73.94133758544922</td><td>40.78812026977539</td><td>6.0</td><td>0.5</td><td>0.5</td><td>0.0</td><td>0.3</td><td>7.3</td><td>{-73.955543518066...</td><td>{-73.941337585449...</td><td>1.005400104310164</td></tr>\n",
       "<tr><td>2015-05-05 23:37:42</td><td>2015-05-05 23:53:25</td><td>1</td><td>3.7</td><td>-73.9922103881836</td><td>40.72918701171875</td><td>-73.96039581298828</td><td>40.775630950927734</td><td>15.0</td><td>0.5</td><td>0.5</td><td>0.0</td><td>0.3</td><td>16.3</td><td>{-73.992210388183...</td><td>{-73.960395812988...</td><td>2.3699337492187142</td></tr>\n",
       "<tr><td>2015-05-05 23:37:42</td><td>2015-05-05 23:52:53</td><td>2</td><td>7.84</td><td>-73.98773956298828</td><td>40.74085998535156</td><td>-73.8731689453125</td><td>40.72309112548828</td><td>23.5</td><td>0.5</td><td>0.5</td><td>5.54</td><td>0.3</td><td>30.34</td><td>{-73.987739562988...</td><td>{-73.873168945312...</td><td>7.923353440564057</td></tr>\n",
       "<tr><td>2015-05-05 23:37:42</td><td>2015-05-05 23:48:25</td><td>3</td><td>2.36</td><td>-73.98799896240234</td><td>40.743995666503906</td><td>-73.99852752685547</td><td>40.717002868652344</td><td>10.0</td><td>0.5</td><td>0.5</td><td>0.0</td><td>0.3</td><td>11.3</td><td>{-73.987998962402...</td><td>{-73.998527526855...</td><td>0.8908830375499545</td></tr>\n",
       "<tr><td>2015-05-05 23:37:42</td><td>2015-05-05 23:41:37</td><td>1</td><td>1.35</td><td>-73.97103881835938</td><td>40.757938385009766</td><td>-73.98065185546875</td><td>40.74224853515625</td><td>6.0</td><td>0.5</td><td>0.5</td><td>0.0</td><td>0.3</td><td>7.3</td><td>{-73.971038818359...</td><td>{-73.980651855468...</td><td>0.7284958093126642</td></tr>\n",
       "<tr><td>2015-05-05 23:37:43</td><td>2015-05-05 23:42:23</td><td>1</td><td>1.3</td><td>-73.97806549072266</td><td>40.72515869140625</td><td>-73.97891998291016</td><td>40.713619232177734</td><td>6.0</td><td>0.5</td><td>0.5</td><td>0.0</td><td>0.3</td><td>7.3</td><td>{-73.978065490722...</td><td>{-73.978919982910...</td><td>0.2278356372717261</td></tr>\n",
       "<tr><td>2015-05-05 23:37:43</td><td>2015-05-05 23:49:51</td><td>2</td><td>4.7</td><td>-73.97650146484375</td><td>40.74988555908203</td><td>-74.00616455078125</td><td>40.70794677734375</td><td>15.5</td><td>0.5</td><td>0.5</td><td>0.0</td><td>0.3</td><td>16.8</td><td>{-73.976501464843...</td><td>{-74.006164550781...</td><td>2.199806136674883</td></tr>\n",
       "<tr><td>2015-05-05 23:37:43</td><td>2015-05-05 23:50:24</td><td>1</td><td>2.2</td><td>-73.95781707763672</td><td>40.71780014038086</td><td>-73.9320068359375</td><td>40.70644760131836</td><td>10.5</td><td>0.5</td><td>0.5</td><td>0.0</td><td>0.3</td><td>11.8</td><td>{-73.957817077636...</td><td>{-73.932006835937...</td><td>1.796460587409308</td></tr>\n",
       "<tr><td>2015-05-05 23:37:43</td><td>2015-05-05 23:45:51</td><td>2</td><td>2.2</td><td>-73.96894836425781</td><td>40.79884719848633</td><td>-73.98978424072266</td><td>40.77588653564453</td><td>9.0</td><td>0.5</td><td>0.5</td><td>0.0</td><td>0.3</td><td>10.3</td><td>{-73.968948364257...</td><td>{-73.989784240722...</td><td>1.5047250993762293</td></tr>\n",
       "<tr><td>2015-05-05 23:37:43</td><td>2015-05-05 23:50:33</td><td>3</td><td>3.59</td><td>-73.98811340332031</td><td>40.73214340209961</td><td>-73.9635238647461</td><td>40.774356842041016</td><td>13.0</td><td>0.5</td><td>0.5</td><td>0.0</td><td>0.3</td><td>14.3</td><td>{-73.988113403320...</td><td>{-73.963523864746...</td><td>1.880088745081906</td></tr>\n",
       "<tr><td>2015-05-05 23:37:43</td><td>2015-05-05 23:51:22</td><td>1</td><td>2.5</td><td>-73.97169494628906</td><td>40.75455093383789</td><td>-73.94957733154297</td><td>40.785343170166016</td><td>12.5</td><td>0.5</td><td>0.5</td><td>0.0</td><td>0.3</td><td>13.8</td><td>{-73.971694946289...</td><td>{-73.949577331542...</td><td>1.6373391457534223</td></tr>\n",
       "<tr><td>2015-05-05 23:37:44</td><td>2015-05-05 23:57:01</td><td>2</td><td>2.8</td><td>-73.9889144897461</td><td>40.718971252441406</td><td>-73.99418640136719</td><td>40.70323944091797</td><td>14.0</td><td>0.5</td><td>0.5</td><td>0.0</td><td>0.3</td><td>15.3</td><td>{-73.988914489746...</td><td>{-73.994186401367...</td><td>0.47173918527751857</td></tr>\n",
       "<tr><td>2015-05-05 23:37:44</td><td>2015-05-05 23:51:46</td><td>1</td><td>3.2</td><td>-73.98925018310547</td><td>40.75849914550781</td><td>-73.9910659790039</td><td>40.72768020629883</td><td>12.5</td><td>0.5</td><td>0.5</td><td>0.0</td><td>0.3</td><td>13.8</td><td>{-73.989250183105...</td><td>{-73.991065979003...</td><td>0.6005399974544332</td></tr>\n",
       "<tr><td>2015-05-05 23:37:44</td><td>2015-05-05 23:43:06</td><td>1</td><td>1.39</td><td>-73.95214080810547</td><td>40.77748489379883</td><td>-73.96037292480469</td><td>40.761741638183594</td><td>6.0</td><td>0.5</td><td>0.5</td><td>0.0</td><td>0.3</td><td>7.3</td><td>{-73.952140808105...</td><td>{-73.960372924804...</td><td>0.6433428281643827</td></tr>\n",
       "</table>\n"
      ],
      "text/plain": [
       "+-------------------+-------------------+---------------+-------------+------------------+------------------+------------------+------------------+-----------+-----+-------+------------+---------------------+-----+--------------------+--------------------+-------------------+\n",
       "|        pickup_time|       dropoff_time|passenger_count|trip_distance|  pickup_longitude|   pickup_latitude| dropoff_longitude|  dropoff_latitude|fare_amount|extra|mta_tax|tolls_amount|improvement_surcharge| cost|        pickup_coord|       dropoff_coord|    approx_distance|\n",
       "+-------------------+-------------------+---------------+-------------+------------------+------------------+------------------+------------------+-----------+-----+-------+------------+---------------------+-----+--------------------+--------------------+-------------------+\n",
       "|2015-05-05 23:37:40|2015-05-05 23:45:41|              1|          2.0|-74.00167846679688| 40.73931121826172| -73.9782943725586| 40.75210952758789|        8.5|  0.5|    0.5|         0.0|                  0.3|  9.8|{-74.001678466796...|{-73.978294372558...| 1.6339881624135753|\n",
       "|2015-05-05 23:37:40|2015-05-05 23:40:36|              1|         0.54|-73.93083953857422|40.744789123535156|-73.93751525878906|40.749359130859375|        4.5|  0.5|    0.5|         0.0|                  0.3|  5.8|{-73.930839538574...|{-73.937515258789...| 0.4694519190253022|\n",
       "|2015-05-05 23:37:40|2015-05-05 23:44:03|              3|          2.1|-74.00141143798828| 40.73108673095703|-73.98167419433594| 40.75828170776367|        8.0|  0.5|    0.5|         0.0|                  0.3|  9.3|{-74.001411437988...|{-73.981674194335...| 1.4588440445768487|\n",
       "|2015-05-05 23:37:40|2015-05-06 00:14:01|              6|        10.93|-73.97067260742188| 40.75856018066406|-73.93376159667969|  40.6705436706543|       36.0|  0.5|    0.5|         0.0|                  0.3| 37.3|{-73.970672607421...|{-73.933761596679...| 3.0545402962157318|\n",
       "|2015-05-05 23:37:40|2015-05-05 23:46:03|              5|         0.93|-73.98673248291016| 40.75587844848633|-73.99095916748047| 40.74998092651367|        7.0|  0.5|    0.5|         0.0|                  0.3|  8.3|{-73.986732482910...|{-73.990959167480...|0.31291679750135426|\n",
       "|2015-05-05 23:37:41|2015-05-05 23:50:34|              3|          2.4|-73.98932647705078| 40.75659942626953|-73.97958374023438|  40.7353630065918|       11.0|  0.5|    0.5|         0.0|                  0.3| 12.3|{-73.989326477050...|{-73.979583740234...| 0.7855086251591178|\n",
       "|2015-05-05 23:37:42|2015-05-05 23:41:51|              1|          1.3| -73.9555435180664|  40.7767219543457|-73.94133758544922| 40.78812026977539|        6.0|  0.5|    0.5|         0.0|                  0.3|  7.3|{-73.955543518066...|{-73.941337585449...|  1.005400104310164|\n",
       "|2015-05-05 23:37:42|2015-05-05 23:53:25|              1|          3.7| -73.9922103881836| 40.72918701171875|-73.96039581298828|40.775630950927734|       15.0|  0.5|    0.5|         0.0|                  0.3| 16.3|{-73.992210388183...|{-73.960395812988...| 2.3699337492187142|\n",
       "|2015-05-05 23:37:42|2015-05-05 23:52:53|              2|         7.84|-73.98773956298828| 40.74085998535156| -73.8731689453125| 40.72309112548828|       23.5|  0.5|    0.5|        5.54|                  0.3|30.34|{-73.987739562988...|{-73.873168945312...|  7.923353440564057|\n",
       "|2015-05-05 23:37:42|2015-05-05 23:48:25|              3|         2.36|-73.98799896240234|40.743995666503906|-73.99852752685547|40.717002868652344|       10.0|  0.5|    0.5|         0.0|                  0.3| 11.3|{-73.987998962402...|{-73.998527526855...| 0.8908830375499545|\n",
       "|2015-05-05 23:37:42|2015-05-05 23:41:37|              1|         1.35|-73.97103881835938|40.757938385009766|-73.98065185546875| 40.74224853515625|        6.0|  0.5|    0.5|         0.0|                  0.3|  7.3|{-73.971038818359...|{-73.980651855468...| 0.7284958093126642|\n",
       "|2015-05-05 23:37:43|2015-05-05 23:42:23|              1|          1.3|-73.97806549072266| 40.72515869140625|-73.97891998291016|40.713619232177734|        6.0|  0.5|    0.5|         0.0|                  0.3|  7.3|{-73.978065490722...|{-73.978919982910...| 0.2278356372717261|\n",
       "|2015-05-05 23:37:43|2015-05-05 23:49:51|              2|          4.7|-73.97650146484375| 40.74988555908203|-74.00616455078125| 40.70794677734375|       15.5|  0.5|    0.5|         0.0|                  0.3| 16.8|{-73.976501464843...|{-74.006164550781...|  2.199806136674883|\n",
       "|2015-05-05 23:37:43|2015-05-05 23:50:24|              1|          2.2|-73.95781707763672| 40.71780014038086| -73.9320068359375| 40.70644760131836|       10.5|  0.5|    0.5|         0.0|                  0.3| 11.8|{-73.957817077636...|{-73.932006835937...|  1.796460587409308|\n",
       "|2015-05-05 23:37:43|2015-05-05 23:45:51|              2|          2.2|-73.96894836425781| 40.79884719848633|-73.98978424072266| 40.77588653564453|        9.0|  0.5|    0.5|         0.0|                  0.3| 10.3|{-73.968948364257...|{-73.989784240722...| 1.5047250993762293|\n",
       "|2015-05-05 23:37:43|2015-05-05 23:50:33|              3|         3.59|-73.98811340332031| 40.73214340209961| -73.9635238647461|40.774356842041016|       13.0|  0.5|    0.5|         0.0|                  0.3| 14.3|{-73.988113403320...|{-73.963523864746...|  1.880088745081906|\n",
       "|2015-05-05 23:37:43|2015-05-05 23:51:22|              1|          2.5|-73.97169494628906| 40.75455093383789|-73.94957733154297|40.785343170166016|       12.5|  0.5|    0.5|         0.0|                  0.3| 13.8|{-73.971694946289...|{-73.949577331542...| 1.6373391457534223|\n",
       "|2015-05-05 23:37:44|2015-05-05 23:57:01|              2|          2.8| -73.9889144897461|40.718971252441406|-73.99418640136719| 40.70323944091797|       14.0|  0.5|    0.5|         0.0|                  0.3| 15.3|{-73.988914489746...|{-73.994186401367...|0.47173918527751857|\n",
       "|2015-05-05 23:37:44|2015-05-05 23:51:46|              1|          3.2|-73.98925018310547| 40.75849914550781| -73.9910659790039| 40.72768020629883|       12.5|  0.5|    0.5|         0.0|                  0.3| 13.8|{-73.989250183105...|{-73.991065979003...| 0.6005399974544332|\n",
       "|2015-05-05 23:37:44|2015-05-05 23:43:06|              1|         1.39|-73.95214080810547| 40.77748489379883|-73.96037292480469|40.761741638183594|        6.0|  0.5|    0.5|         0.0|                  0.3|  7.3|{-73.952140808105...|{-73.960372924804...| 0.6433428281643827|\n",
       "+-------------------+-------------------+---------------+-------------+------------------+------------------+------------------+------------------+-----------+-----+-------+------------+---------------------+-----+--------------------+--------------------+-------------------+"
      ]
     },
     "execution_count": 97,
     "metadata": {},
     "output_type": "execute_result"
    }
   ],
   "source": [
    "sdf.limit(20)"
   ]
  },
  {
   "cell_type": "code",
   "execution_count": 100,
   "id": "rural-audio",
   "metadata": {},
   "outputs": [
    {
     "ename": "KeyboardInterrupt",
     "evalue": "",
     "output_type": "error",
     "traceback": [
      "\u001b[0;31m---------------------------------------------------------------------------\u001b[0m",
      "\u001b[0;31mKeyboardInterrupt\u001b[0m                         Traceback (most recent call last)",
      "\u001b[0;32m<ipython-input-100-0adfbfefe09d>\u001b[0m in \u001b[0;36m<module>\u001b[0;34m\u001b[0m\n\u001b[0;32m----> 1\u001b[0;31m \u001b[0msdf\u001b[0m\u001b[0;34m.\u001b[0m\u001b[0mwrite\u001b[0m\u001b[0;34m.\u001b[0m\u001b[0mformat\u001b[0m\u001b[0;34m(\u001b[0m\u001b[0;34m\"parquet\"\u001b[0m\u001b[0;34m)\u001b[0m\u001b[0;34m.\u001b[0m\u001b[0msave\u001b[0m\u001b[0;34m(\u001b[0m\u001b[0;34m\"preprocessed.parquet\"\u001b[0m\u001b[0;34m)\u001b[0m\u001b[0;34m\u001b[0m\u001b[0;34m\u001b[0m\u001b[0m\n\u001b[0m",
      "\u001b[0;32m/Library/Frameworks/Python.framework/Versions/3.8/lib/python3.8/site-packages/pyspark/sql/readwriter.py\u001b[0m in \u001b[0;36msave\u001b[0;34m(self, path, format, mode, partitionBy, **options)\u001b[0m\n\u001b[1;32m   1107\u001b[0m             \u001b[0mself\u001b[0m\u001b[0;34m.\u001b[0m\u001b[0m_jwrite\u001b[0m\u001b[0;34m.\u001b[0m\u001b[0msave\u001b[0m\u001b[0;34m(\u001b[0m\u001b[0;34m)\u001b[0m\u001b[0;34m\u001b[0m\u001b[0;34m\u001b[0m\u001b[0m\n\u001b[1;32m   1108\u001b[0m         \u001b[0;32melse\u001b[0m\u001b[0;34m:\u001b[0m\u001b[0;34m\u001b[0m\u001b[0;34m\u001b[0m\u001b[0m\n\u001b[0;32m-> 1109\u001b[0;31m             \u001b[0mself\u001b[0m\u001b[0;34m.\u001b[0m\u001b[0m_jwrite\u001b[0m\u001b[0;34m.\u001b[0m\u001b[0msave\u001b[0m\u001b[0;34m(\u001b[0m\u001b[0mpath\u001b[0m\u001b[0;34m)\u001b[0m\u001b[0;34m\u001b[0m\u001b[0;34m\u001b[0m\u001b[0m\n\u001b[0m\u001b[1;32m   1110\u001b[0m \u001b[0;34m\u001b[0m\u001b[0m\n\u001b[1;32m   1111\u001b[0m     \u001b[0;34m@\u001b[0m\u001b[0msince\u001b[0m\u001b[0;34m(\u001b[0m\u001b[0;36m1.4\u001b[0m\u001b[0;34m)\u001b[0m\u001b[0;34m\u001b[0m\u001b[0;34m\u001b[0m\u001b[0m\n",
      "\u001b[0;32m/Library/Frameworks/Python.framework/Versions/3.8/lib/python3.8/site-packages/py4j/java_gateway.py\u001b[0m in \u001b[0;36m__call__\u001b[0;34m(self, *args)\u001b[0m\n\u001b[1;32m   1301\u001b[0m             \u001b[0mproto\u001b[0m\u001b[0;34m.\u001b[0m\u001b[0mEND_COMMAND_PART\u001b[0m\u001b[0;34m\u001b[0m\u001b[0;34m\u001b[0m\u001b[0m\n\u001b[1;32m   1302\u001b[0m \u001b[0;34m\u001b[0m\u001b[0m\n\u001b[0;32m-> 1303\u001b[0;31m         \u001b[0manswer\u001b[0m \u001b[0;34m=\u001b[0m \u001b[0mself\u001b[0m\u001b[0;34m.\u001b[0m\u001b[0mgateway_client\u001b[0m\u001b[0;34m.\u001b[0m\u001b[0msend_command\u001b[0m\u001b[0;34m(\u001b[0m\u001b[0mcommand\u001b[0m\u001b[0;34m)\u001b[0m\u001b[0;34m\u001b[0m\u001b[0;34m\u001b[0m\u001b[0m\n\u001b[0m\u001b[1;32m   1304\u001b[0m         return_value = get_return_value(\n\u001b[1;32m   1305\u001b[0m             answer, self.gateway_client, self.target_id, self.name)\n",
      "\u001b[0;32m/Library/Frameworks/Python.framework/Versions/3.8/lib/python3.8/site-packages/py4j/java_gateway.py\u001b[0m in \u001b[0;36msend_command\u001b[0;34m(self, command, retry, binary)\u001b[0m\n\u001b[1;32m   1031\u001b[0m         \u001b[0mconnection\u001b[0m \u001b[0;34m=\u001b[0m \u001b[0mself\u001b[0m\u001b[0;34m.\u001b[0m\u001b[0m_get_connection\u001b[0m\u001b[0;34m(\u001b[0m\u001b[0;34m)\u001b[0m\u001b[0;34m\u001b[0m\u001b[0;34m\u001b[0m\u001b[0m\n\u001b[1;32m   1032\u001b[0m         \u001b[0;32mtry\u001b[0m\u001b[0;34m:\u001b[0m\u001b[0;34m\u001b[0m\u001b[0;34m\u001b[0m\u001b[0m\n\u001b[0;32m-> 1033\u001b[0;31m             \u001b[0mresponse\u001b[0m \u001b[0;34m=\u001b[0m \u001b[0mconnection\u001b[0m\u001b[0;34m.\u001b[0m\u001b[0msend_command\u001b[0m\u001b[0;34m(\u001b[0m\u001b[0mcommand\u001b[0m\u001b[0;34m)\u001b[0m\u001b[0;34m\u001b[0m\u001b[0;34m\u001b[0m\u001b[0m\n\u001b[0m\u001b[1;32m   1034\u001b[0m             \u001b[0;32mif\u001b[0m \u001b[0mbinary\u001b[0m\u001b[0;34m:\u001b[0m\u001b[0;34m\u001b[0m\u001b[0;34m\u001b[0m\u001b[0m\n\u001b[1;32m   1035\u001b[0m                 \u001b[0;32mreturn\u001b[0m \u001b[0mresponse\u001b[0m\u001b[0;34m,\u001b[0m \u001b[0mself\u001b[0m\u001b[0;34m.\u001b[0m\u001b[0m_create_connection_guard\u001b[0m\u001b[0;34m(\u001b[0m\u001b[0mconnection\u001b[0m\u001b[0;34m)\u001b[0m\u001b[0;34m\u001b[0m\u001b[0;34m\u001b[0m\u001b[0m\n",
      "\u001b[0;32m/Library/Frameworks/Python.framework/Versions/3.8/lib/python3.8/site-packages/py4j/java_gateway.py\u001b[0m in \u001b[0;36msend_command\u001b[0;34m(self, command)\u001b[0m\n\u001b[1;32m   1198\u001b[0m \u001b[0;34m\u001b[0m\u001b[0m\n\u001b[1;32m   1199\u001b[0m         \u001b[0;32mtry\u001b[0m\u001b[0;34m:\u001b[0m\u001b[0;34m\u001b[0m\u001b[0;34m\u001b[0m\u001b[0m\n\u001b[0;32m-> 1200\u001b[0;31m             \u001b[0manswer\u001b[0m \u001b[0;34m=\u001b[0m \u001b[0msmart_decode\u001b[0m\u001b[0;34m(\u001b[0m\u001b[0mself\u001b[0m\u001b[0;34m.\u001b[0m\u001b[0mstream\u001b[0m\u001b[0;34m.\u001b[0m\u001b[0mreadline\u001b[0m\u001b[0;34m(\u001b[0m\u001b[0;34m)\u001b[0m\u001b[0;34m[\u001b[0m\u001b[0;34m:\u001b[0m\u001b[0;34m-\u001b[0m\u001b[0;36m1\u001b[0m\u001b[0;34m]\u001b[0m\u001b[0;34m)\u001b[0m\u001b[0;34m\u001b[0m\u001b[0;34m\u001b[0m\u001b[0m\n\u001b[0m\u001b[1;32m   1201\u001b[0m             \u001b[0mlogger\u001b[0m\u001b[0;34m.\u001b[0m\u001b[0mdebug\u001b[0m\u001b[0;34m(\u001b[0m\u001b[0;34m\"Answer received: {0}\"\u001b[0m\u001b[0;34m.\u001b[0m\u001b[0mformat\u001b[0m\u001b[0;34m(\u001b[0m\u001b[0manswer\u001b[0m\u001b[0;34m)\u001b[0m\u001b[0;34m)\u001b[0m\u001b[0;34m\u001b[0m\u001b[0;34m\u001b[0m\u001b[0m\n\u001b[1;32m   1202\u001b[0m             \u001b[0;32mif\u001b[0m \u001b[0manswer\u001b[0m\u001b[0;34m.\u001b[0m\u001b[0mstartswith\u001b[0m\u001b[0;34m(\u001b[0m\u001b[0mproto\u001b[0m\u001b[0;34m.\u001b[0m\u001b[0mRETURN_MESSAGE\u001b[0m\u001b[0;34m)\u001b[0m\u001b[0;34m:\u001b[0m\u001b[0;34m\u001b[0m\u001b[0;34m\u001b[0m\u001b[0m\n",
      "\u001b[0;32m/Library/Frameworks/Python.framework/Versions/3.8/lib/python3.8/socket.py\u001b[0m in \u001b[0;36mreadinto\u001b[0;34m(self, b)\u001b[0m\n\u001b[1;32m    667\u001b[0m         \u001b[0;32mwhile\u001b[0m \u001b[0;32mTrue\u001b[0m\u001b[0;34m:\u001b[0m\u001b[0;34m\u001b[0m\u001b[0;34m\u001b[0m\u001b[0m\n\u001b[1;32m    668\u001b[0m             \u001b[0;32mtry\u001b[0m\u001b[0;34m:\u001b[0m\u001b[0;34m\u001b[0m\u001b[0;34m\u001b[0m\u001b[0m\n\u001b[0;32m--> 669\u001b[0;31m                 \u001b[0;32mreturn\u001b[0m \u001b[0mself\u001b[0m\u001b[0;34m.\u001b[0m\u001b[0m_sock\u001b[0m\u001b[0;34m.\u001b[0m\u001b[0mrecv_into\u001b[0m\u001b[0;34m(\u001b[0m\u001b[0mb\u001b[0m\u001b[0;34m)\u001b[0m\u001b[0;34m\u001b[0m\u001b[0;34m\u001b[0m\u001b[0m\n\u001b[0m\u001b[1;32m    670\u001b[0m             \u001b[0;32mexcept\u001b[0m \u001b[0mtimeout\u001b[0m\u001b[0;34m:\u001b[0m\u001b[0;34m\u001b[0m\u001b[0;34m\u001b[0m\u001b[0m\n\u001b[1;32m    671\u001b[0m                 \u001b[0mself\u001b[0m\u001b[0;34m.\u001b[0m\u001b[0m_timeout_occurred\u001b[0m \u001b[0;34m=\u001b[0m \u001b[0;32mTrue\u001b[0m\u001b[0;34m\u001b[0m\u001b[0;34m\u001b[0m\u001b[0m\n",
      "\u001b[0;31mKeyboardInterrupt\u001b[0m: "
     ]
    }
   ],
   "source": [
    "sdf.write.format(\"parquet\").save(\"preprocessed.parquet\")"
   ]
  },
  {
   "cell_type": "code",
   "execution_count": 83,
   "id": "undefined-leeds",
   "metadata": {},
   "outputs": [],
   "source": [
    "\n",
    "sample = sdf.limit(100)\n",
    "sample.toPandas().to_csv(\"test.csv\")"
   ]
  },
  {
   "cell_type": "code",
   "execution_count": 12,
   "id": "consecutive-incentive",
   "metadata": {},
   "outputs": [
    {
     "data": {
      "text/html": [
       "<table border='1'>\n",
       "<tr><th>avg(total_amount)</th></tr>\n",
       "<tr><td>16.096247288503392</td></tr>\n",
       "</table>\n"
      ],
      "text/plain": [
       "+------------------+\n",
       "| avg(total_amount)|\n",
       "+------------------+\n",
       "|16.096247288503392|\n",
       "+------------------+"
      ]
     },
     "execution_count": 12,
     "metadata": {},
     "output_type": "execute_result"
    }
   ],
   "source": [
    "sdf_with_schema.agg(mean(\"total_amount\"))"
   ]
  },
  {
   "cell_type": "code",
   "execution_count": 16,
   "id": "brazilian-evans",
   "metadata": {},
   "outputs": [],
   "source": [
    "small = sdf_with_schema.sample(False, 0.000001, seed = 0)"
   ]
  },
  {
   "cell_type": "code",
   "execution_count": 17,
   "id": "minor-cincinnati",
   "metadata": {},
   "outputs": [
    {
     "data": {
      "text/plain": [
       "11"
      ]
     },
     "execution_count": 17,
     "metadata": {},
     "output_type": "execute_result"
    }
   ],
   "source": [
    "small.filter((small.total_amount>30)).count()"
   ]
  },
  {
   "cell_type": "code",
   "execution_count": 19,
   "id": "metallic-devices",
   "metadata": {},
   "outputs": [
    {
     "data": {
      "text/plain": [
       "0.353"
      ]
     },
     "execution_count": 19,
     "metadata": {},
     "output_type": "execute_result"
    }
   ],
   "source": [
    "353/1000"
   ]
  },
  {
   "cell_type": "code",
   "execution_count": 18,
   "id": "desirable-nightmare",
   "metadata": {},
   "outputs": [],
   "source": [
    "def brackets(x):\n",
    "    if x < 7:\n",
    "        return \"Less than $7\"\n",
    "    if x >= 7 and x < 10:\n",
    "        return \"Between $7 and $10\"\n",
    "    if x >= 10 and x < 15:\n",
    "        return \"Between $10 and $15\"\n",
    "    if x >= 15 and x < 20:\n",
    "        return \"Between $15 and $20\"\n",
    "    if x >= 20 and x < 30:\n",
    "        return \"Between $20 and $30\"\n",
    "    if x >= 30:\n",
    "        return \"Greater than $30\"\n",
    "from pyspark.sql.functions import udf\n",
    "myUDF = udf(brackets)"
   ]
  },
  {
   "cell_type": "code",
   "execution_count": 19,
   "id": "normal-aspect",
   "metadata": {},
   "outputs": [],
   "source": [
    "w_brackets = small.withColumn(\"price_bracket\", myUDF(col(\"total_amount\")))"
   ]
  },
  {
   "cell_type": "code",
   "execution_count": 20,
   "id": "consolidated-wireless",
   "metadata": {},
   "outputs": [
    {
     "data": {
      "text/html": [
       "<table border='1'>\n",
       "<tr><th>price_bracket</th><th>count</th></tr>\n",
       "<tr><td>Between $15 and $20</td><td>16</td></tr>\n",
       "<tr><td>Greater than $30</td><td>11</td></tr>\n",
       "<tr><td>Between $10 and $15</td><td>33</td></tr>\n",
       "<tr><td>Between $7 and $10</td><td>25</td></tr>\n",
       "<tr><td>Between $20 and $30</td><td>15</td></tr>\n",
       "<tr><td>Less than $7</td><td>19</td></tr>\n",
       "</table>\n"
      ],
      "text/plain": [
       "+-------------------+-----+\n",
       "|      price_bracket|count|\n",
       "+-------------------+-----+\n",
       "|Between $15 and $20|   16|\n",
       "|   Greater than $30|   11|\n",
       "|Between $10 and $15|   33|\n",
       "| Between $7 and $10|   25|\n",
       "|Between $20 and $30|   15|\n",
       "|       Less than $7|   19|\n",
       "+-------------------+-----+"
      ]
     },
     "execution_count": 20,
     "metadata": {},
     "output_type": "execute_result"
    }
   ],
   "source": [
    "w_brackets.groupBy('price_bracket').count()"
   ]
  },
  {
   "cell_type": "code",
   "execution_count": 21,
   "id": "greater-fundamental",
   "metadata": {},
   "outputs": [
    {
     "ename": "KeyboardInterrupt",
     "evalue": "",
     "output_type": "error",
     "traceback": [
      "\u001b[0;31m---------------------------------------------------------------------------\u001b[0m",
      "\u001b[0;31mKeyboardInterrupt\u001b[0m                         Traceback (most recent call last)",
      "\u001b[0;32m<ipython-input-21-c6f8a8c05e57>\u001b[0m in \u001b[0;36m<module>\u001b[0;34m\u001b[0m\n\u001b[0;32m----> 1\u001b[0;31m \u001b[0mw_brackets\u001b[0m\u001b[0;34m.\u001b[0m\u001b[0mlimit\u001b[0m\u001b[0;34m(\u001b[0m\u001b[0;36m10\u001b[0m\u001b[0;34m)\u001b[0m\u001b[0;34m\u001b[0m\u001b[0;34m\u001b[0m\u001b[0m\n\u001b[0m",
      "\u001b[0;32m/Library/Frameworks/Python.framework/Versions/3.8/lib/python3.8/site-packages/IPython/core/displayhook.py\u001b[0m in \u001b[0;36m__call__\u001b[0;34m(self, result)\u001b[0m\n\u001b[1;32m    260\u001b[0m             \u001b[0mself\u001b[0m\u001b[0;34m.\u001b[0m\u001b[0mstart_displayhook\u001b[0m\u001b[0;34m(\u001b[0m\u001b[0;34m)\u001b[0m\u001b[0;34m\u001b[0m\u001b[0;34m\u001b[0m\u001b[0m\n\u001b[1;32m    261\u001b[0m             \u001b[0mself\u001b[0m\u001b[0;34m.\u001b[0m\u001b[0mwrite_output_prompt\u001b[0m\u001b[0;34m(\u001b[0m\u001b[0;34m)\u001b[0m\u001b[0;34m\u001b[0m\u001b[0;34m\u001b[0m\u001b[0m\n\u001b[0;32m--> 262\u001b[0;31m             \u001b[0mformat_dict\u001b[0m\u001b[0;34m,\u001b[0m \u001b[0mmd_dict\u001b[0m \u001b[0;34m=\u001b[0m \u001b[0mself\u001b[0m\u001b[0;34m.\u001b[0m\u001b[0mcompute_format_data\u001b[0m\u001b[0;34m(\u001b[0m\u001b[0mresult\u001b[0m\u001b[0;34m)\u001b[0m\u001b[0;34m\u001b[0m\u001b[0;34m\u001b[0m\u001b[0m\n\u001b[0m\u001b[1;32m    263\u001b[0m             \u001b[0mself\u001b[0m\u001b[0;34m.\u001b[0m\u001b[0mupdate_user_ns\u001b[0m\u001b[0;34m(\u001b[0m\u001b[0mresult\u001b[0m\u001b[0;34m)\u001b[0m\u001b[0;34m\u001b[0m\u001b[0;34m\u001b[0m\u001b[0m\n\u001b[1;32m    264\u001b[0m             \u001b[0mself\u001b[0m\u001b[0;34m.\u001b[0m\u001b[0mfill_exec_result\u001b[0m\u001b[0;34m(\u001b[0m\u001b[0mresult\u001b[0m\u001b[0;34m)\u001b[0m\u001b[0;34m\u001b[0m\u001b[0;34m\u001b[0m\u001b[0m\n",
      "\u001b[0;32m/Library/Frameworks/Python.framework/Versions/3.8/lib/python3.8/site-packages/IPython/core/displayhook.py\u001b[0m in \u001b[0;36mcompute_format_data\u001b[0;34m(self, result)\u001b[0m\n\u001b[1;32m    149\u001b[0m \u001b[0;34m\u001b[0m\u001b[0m\n\u001b[1;32m    150\u001b[0m         \"\"\"\n\u001b[0;32m--> 151\u001b[0;31m         \u001b[0;32mreturn\u001b[0m \u001b[0mself\u001b[0m\u001b[0;34m.\u001b[0m\u001b[0mshell\u001b[0m\u001b[0;34m.\u001b[0m\u001b[0mdisplay_formatter\u001b[0m\u001b[0;34m.\u001b[0m\u001b[0mformat\u001b[0m\u001b[0;34m(\u001b[0m\u001b[0mresult\u001b[0m\u001b[0;34m)\u001b[0m\u001b[0;34m\u001b[0m\u001b[0;34m\u001b[0m\u001b[0m\n\u001b[0m\u001b[1;32m    152\u001b[0m \u001b[0;34m\u001b[0m\u001b[0m\n\u001b[1;32m    153\u001b[0m     \u001b[0;31m# This can be set to True by the write_output_prompt method in a subclass\u001b[0m\u001b[0;34m\u001b[0m\u001b[0;34m\u001b[0m\u001b[0;34m\u001b[0m\u001b[0m\n",
      "\u001b[0;32m/Library/Frameworks/Python.framework/Versions/3.8/lib/python3.8/site-packages/IPython/core/formatters.py\u001b[0m in \u001b[0;36mformat\u001b[0;34m(self, obj, include, exclude)\u001b[0m\n\u001b[1;32m    178\u001b[0m             \u001b[0mmd\u001b[0m \u001b[0;34m=\u001b[0m \u001b[0;32mNone\u001b[0m\u001b[0;34m\u001b[0m\u001b[0;34m\u001b[0m\u001b[0m\n\u001b[1;32m    179\u001b[0m             \u001b[0;32mtry\u001b[0m\u001b[0;34m:\u001b[0m\u001b[0;34m\u001b[0m\u001b[0;34m\u001b[0m\u001b[0m\n\u001b[0;32m--> 180\u001b[0;31m                 \u001b[0mdata\u001b[0m \u001b[0;34m=\u001b[0m \u001b[0mformatter\u001b[0m\u001b[0;34m(\u001b[0m\u001b[0mobj\u001b[0m\u001b[0;34m)\u001b[0m\u001b[0;34m\u001b[0m\u001b[0;34m\u001b[0m\u001b[0m\n\u001b[0m\u001b[1;32m    181\u001b[0m             \u001b[0;32mexcept\u001b[0m\u001b[0;34m:\u001b[0m\u001b[0;34m\u001b[0m\u001b[0;34m\u001b[0m\u001b[0m\n\u001b[1;32m    182\u001b[0m                 \u001b[0;31m# FIXME: log the exception\u001b[0m\u001b[0;34m\u001b[0m\u001b[0;34m\u001b[0m\u001b[0;34m\u001b[0m\u001b[0m\n",
      "\u001b[0;32m<decorator-gen-3>\u001b[0m in \u001b[0;36m__call__\u001b[0;34m(self, obj)\u001b[0m\n",
      "\u001b[0;32m/Library/Frameworks/Python.framework/Versions/3.8/lib/python3.8/site-packages/IPython/core/formatters.py\u001b[0m in \u001b[0;36mcatch_format_error\u001b[0;34m(method, self, *args, **kwargs)\u001b[0m\n\u001b[1;32m    222\u001b[0m     \u001b[0;34m\"\"\"show traceback on failed format call\"\"\"\u001b[0m\u001b[0;34m\u001b[0m\u001b[0;34m\u001b[0m\u001b[0m\n\u001b[1;32m    223\u001b[0m     \u001b[0;32mtry\u001b[0m\u001b[0;34m:\u001b[0m\u001b[0;34m\u001b[0m\u001b[0;34m\u001b[0m\u001b[0m\n\u001b[0;32m--> 224\u001b[0;31m         \u001b[0mr\u001b[0m \u001b[0;34m=\u001b[0m \u001b[0mmethod\u001b[0m\u001b[0;34m(\u001b[0m\u001b[0mself\u001b[0m\u001b[0;34m,\u001b[0m \u001b[0;34m*\u001b[0m\u001b[0margs\u001b[0m\u001b[0;34m,\u001b[0m \u001b[0;34m**\u001b[0m\u001b[0mkwargs\u001b[0m\u001b[0;34m)\u001b[0m\u001b[0;34m\u001b[0m\u001b[0;34m\u001b[0m\u001b[0m\n\u001b[0m\u001b[1;32m    225\u001b[0m     \u001b[0;32mexcept\u001b[0m \u001b[0mNotImplementedError\u001b[0m\u001b[0;34m:\u001b[0m\u001b[0;34m\u001b[0m\u001b[0;34m\u001b[0m\u001b[0m\n\u001b[1;32m    226\u001b[0m         \u001b[0;31m# don't warn on NotImplementedErrors\u001b[0m\u001b[0;34m\u001b[0m\u001b[0;34m\u001b[0m\u001b[0;34m\u001b[0m\u001b[0m\n",
      "\u001b[0;32m/Library/Frameworks/Python.framework/Versions/3.8/lib/python3.8/site-packages/IPython/core/formatters.py\u001b[0m in \u001b[0;36m__call__\u001b[0;34m(self, obj)\u001b[0m\n\u001b[1;32m    700\u001b[0m                 \u001b[0mtype_pprinters\u001b[0m\u001b[0;34m=\u001b[0m\u001b[0mself\u001b[0m\u001b[0;34m.\u001b[0m\u001b[0mtype_printers\u001b[0m\u001b[0;34m,\u001b[0m\u001b[0;34m\u001b[0m\u001b[0;34m\u001b[0m\u001b[0m\n\u001b[1;32m    701\u001b[0m                 deferred_pprinters=self.deferred_printers)\n\u001b[0;32m--> 702\u001b[0;31m             \u001b[0mprinter\u001b[0m\u001b[0;34m.\u001b[0m\u001b[0mpretty\u001b[0m\u001b[0;34m(\u001b[0m\u001b[0mobj\u001b[0m\u001b[0;34m)\u001b[0m\u001b[0;34m\u001b[0m\u001b[0;34m\u001b[0m\u001b[0m\n\u001b[0m\u001b[1;32m    703\u001b[0m             \u001b[0mprinter\u001b[0m\u001b[0;34m.\u001b[0m\u001b[0mflush\u001b[0m\u001b[0;34m(\u001b[0m\u001b[0;34m)\u001b[0m\u001b[0;34m\u001b[0m\u001b[0;34m\u001b[0m\u001b[0m\n\u001b[1;32m    704\u001b[0m             \u001b[0;32mreturn\u001b[0m \u001b[0mstream\u001b[0m\u001b[0;34m.\u001b[0m\u001b[0mgetvalue\u001b[0m\u001b[0;34m(\u001b[0m\u001b[0;34m)\u001b[0m\u001b[0;34m\u001b[0m\u001b[0;34m\u001b[0m\u001b[0m\n",
      "\u001b[0;32m/Library/Frameworks/Python.framework/Versions/3.8/lib/python3.8/site-packages/IPython/lib/pretty.py\u001b[0m in \u001b[0;36mpretty\u001b[0;34m(self, obj)\u001b[0m\n\u001b[1;32m    392\u001b[0m                         \u001b[0;32mif\u001b[0m \u001b[0mcls\u001b[0m \u001b[0;32mis\u001b[0m \u001b[0;32mnot\u001b[0m \u001b[0mobject\u001b[0m\u001b[0;31m \u001b[0m\u001b[0;31m\\\u001b[0m\u001b[0;34m\u001b[0m\u001b[0;34m\u001b[0m\u001b[0m\n\u001b[1;32m    393\u001b[0m                                 \u001b[0;32mand\u001b[0m \u001b[0mcallable\u001b[0m\u001b[0;34m(\u001b[0m\u001b[0mcls\u001b[0m\u001b[0;34m.\u001b[0m\u001b[0m__dict__\u001b[0m\u001b[0;34m.\u001b[0m\u001b[0mget\u001b[0m\u001b[0;34m(\u001b[0m\u001b[0;34m'__repr__'\u001b[0m\u001b[0;34m)\u001b[0m\u001b[0;34m)\u001b[0m\u001b[0;34m:\u001b[0m\u001b[0;34m\u001b[0m\u001b[0;34m\u001b[0m\u001b[0m\n\u001b[0;32m--> 394\u001b[0;31m                             \u001b[0;32mreturn\u001b[0m \u001b[0m_repr_pprint\u001b[0m\u001b[0;34m(\u001b[0m\u001b[0mobj\u001b[0m\u001b[0;34m,\u001b[0m \u001b[0mself\u001b[0m\u001b[0;34m,\u001b[0m \u001b[0mcycle\u001b[0m\u001b[0;34m)\u001b[0m\u001b[0;34m\u001b[0m\u001b[0;34m\u001b[0m\u001b[0m\n\u001b[0m\u001b[1;32m    395\u001b[0m \u001b[0;34m\u001b[0m\u001b[0m\n\u001b[1;32m    396\u001b[0m             \u001b[0;32mreturn\u001b[0m \u001b[0m_default_pprint\u001b[0m\u001b[0;34m(\u001b[0m\u001b[0mobj\u001b[0m\u001b[0;34m,\u001b[0m \u001b[0mself\u001b[0m\u001b[0;34m,\u001b[0m \u001b[0mcycle\u001b[0m\u001b[0;34m)\u001b[0m\u001b[0;34m\u001b[0m\u001b[0;34m\u001b[0m\u001b[0m\n",
      "\u001b[0;32m/Library/Frameworks/Python.framework/Versions/3.8/lib/python3.8/site-packages/IPython/lib/pretty.py\u001b[0m in \u001b[0;36m_repr_pprint\u001b[0;34m(obj, p, cycle)\u001b[0m\n\u001b[1;32m    698\u001b[0m     \u001b[0;34m\"\"\"A pprint that just redirects to the normal repr function.\"\"\"\u001b[0m\u001b[0;34m\u001b[0m\u001b[0;34m\u001b[0m\u001b[0m\n\u001b[1;32m    699\u001b[0m     \u001b[0;31m# Find newlines and replace them with p.break_()\u001b[0m\u001b[0;34m\u001b[0m\u001b[0;34m\u001b[0m\u001b[0;34m\u001b[0m\u001b[0m\n\u001b[0;32m--> 700\u001b[0;31m     \u001b[0moutput\u001b[0m \u001b[0;34m=\u001b[0m \u001b[0mrepr\u001b[0m\u001b[0;34m(\u001b[0m\u001b[0mobj\u001b[0m\u001b[0;34m)\u001b[0m\u001b[0;34m\u001b[0m\u001b[0;34m\u001b[0m\u001b[0m\n\u001b[0m\u001b[1;32m    701\u001b[0m     \u001b[0mlines\u001b[0m \u001b[0;34m=\u001b[0m \u001b[0moutput\u001b[0m\u001b[0;34m.\u001b[0m\u001b[0msplitlines\u001b[0m\u001b[0;34m(\u001b[0m\u001b[0;34m)\u001b[0m\u001b[0;34m\u001b[0m\u001b[0;34m\u001b[0m\u001b[0m\n\u001b[1;32m    702\u001b[0m     \u001b[0;32mwith\u001b[0m \u001b[0mp\u001b[0m\u001b[0;34m.\u001b[0m\u001b[0mgroup\u001b[0m\u001b[0;34m(\u001b[0m\u001b[0;34m)\u001b[0m\u001b[0;34m:\u001b[0m\u001b[0;34m\u001b[0m\u001b[0;34m\u001b[0m\u001b[0m\n",
      "\u001b[0;32m/Library/Frameworks/Python.framework/Versions/3.8/lib/python3.8/site-packages/pyspark/sql/dataframe.py\u001b[0m in \u001b[0;36m__repr__\u001b[0;34m(self)\u001b[0m\n\u001b[1;32m    489\u001b[0m         \u001b[0;32mif\u001b[0m \u001b[0;32mnot\u001b[0m \u001b[0mself\u001b[0m\u001b[0;34m.\u001b[0m\u001b[0m_support_repr_html\u001b[0m \u001b[0;32mand\u001b[0m \u001b[0mself\u001b[0m\u001b[0;34m.\u001b[0m\u001b[0msql_ctx\u001b[0m\u001b[0;34m.\u001b[0m\u001b[0m_conf\u001b[0m\u001b[0;34m.\u001b[0m\u001b[0misReplEagerEvalEnabled\u001b[0m\u001b[0;34m(\u001b[0m\u001b[0;34m)\u001b[0m\u001b[0;34m:\u001b[0m\u001b[0;34m\u001b[0m\u001b[0;34m\u001b[0m\u001b[0m\n\u001b[1;32m    490\u001b[0m             \u001b[0mvertical\u001b[0m \u001b[0;34m=\u001b[0m \u001b[0;32mFalse\u001b[0m\u001b[0;34m\u001b[0m\u001b[0;34m\u001b[0m\u001b[0m\n\u001b[0;32m--> 491\u001b[0;31m             return self._jdf.showString(\n\u001b[0m\u001b[1;32m    492\u001b[0m                 \u001b[0mself\u001b[0m\u001b[0;34m.\u001b[0m\u001b[0msql_ctx\u001b[0m\u001b[0;34m.\u001b[0m\u001b[0m_conf\u001b[0m\u001b[0;34m.\u001b[0m\u001b[0mreplEagerEvalMaxNumRows\u001b[0m\u001b[0;34m(\u001b[0m\u001b[0;34m)\u001b[0m\u001b[0;34m,\u001b[0m\u001b[0;34m\u001b[0m\u001b[0;34m\u001b[0m\u001b[0m\n\u001b[1;32m    493\u001b[0m                 self.sql_ctx._conf.replEagerEvalTruncate(), vertical)\n",
      "\u001b[0;32m/Library/Frameworks/Python.framework/Versions/3.8/lib/python3.8/site-packages/py4j/java_gateway.py\u001b[0m in \u001b[0;36m__call__\u001b[0;34m(self, *args)\u001b[0m\n\u001b[1;32m   1301\u001b[0m             \u001b[0mproto\u001b[0m\u001b[0;34m.\u001b[0m\u001b[0mEND_COMMAND_PART\u001b[0m\u001b[0;34m\u001b[0m\u001b[0;34m\u001b[0m\u001b[0m\n\u001b[1;32m   1302\u001b[0m \u001b[0;34m\u001b[0m\u001b[0m\n\u001b[0;32m-> 1303\u001b[0;31m         \u001b[0manswer\u001b[0m \u001b[0;34m=\u001b[0m \u001b[0mself\u001b[0m\u001b[0;34m.\u001b[0m\u001b[0mgateway_client\u001b[0m\u001b[0;34m.\u001b[0m\u001b[0msend_command\u001b[0m\u001b[0;34m(\u001b[0m\u001b[0mcommand\u001b[0m\u001b[0;34m)\u001b[0m\u001b[0;34m\u001b[0m\u001b[0;34m\u001b[0m\u001b[0m\n\u001b[0m\u001b[1;32m   1304\u001b[0m         return_value = get_return_value(\n\u001b[1;32m   1305\u001b[0m             answer, self.gateway_client, self.target_id, self.name)\n",
      "\u001b[0;32m/Library/Frameworks/Python.framework/Versions/3.8/lib/python3.8/site-packages/py4j/java_gateway.py\u001b[0m in \u001b[0;36msend_command\u001b[0;34m(self, command, retry, binary)\u001b[0m\n\u001b[1;32m   1031\u001b[0m         \u001b[0mconnection\u001b[0m \u001b[0;34m=\u001b[0m \u001b[0mself\u001b[0m\u001b[0;34m.\u001b[0m\u001b[0m_get_connection\u001b[0m\u001b[0;34m(\u001b[0m\u001b[0;34m)\u001b[0m\u001b[0;34m\u001b[0m\u001b[0;34m\u001b[0m\u001b[0m\n\u001b[1;32m   1032\u001b[0m         \u001b[0;32mtry\u001b[0m\u001b[0;34m:\u001b[0m\u001b[0;34m\u001b[0m\u001b[0;34m\u001b[0m\u001b[0m\n\u001b[0;32m-> 1033\u001b[0;31m             \u001b[0mresponse\u001b[0m \u001b[0;34m=\u001b[0m \u001b[0mconnection\u001b[0m\u001b[0;34m.\u001b[0m\u001b[0msend_command\u001b[0m\u001b[0;34m(\u001b[0m\u001b[0mcommand\u001b[0m\u001b[0;34m)\u001b[0m\u001b[0;34m\u001b[0m\u001b[0;34m\u001b[0m\u001b[0m\n\u001b[0m\u001b[1;32m   1034\u001b[0m             \u001b[0;32mif\u001b[0m \u001b[0mbinary\u001b[0m\u001b[0;34m:\u001b[0m\u001b[0;34m\u001b[0m\u001b[0;34m\u001b[0m\u001b[0m\n\u001b[1;32m   1035\u001b[0m                 \u001b[0;32mreturn\u001b[0m \u001b[0mresponse\u001b[0m\u001b[0;34m,\u001b[0m \u001b[0mself\u001b[0m\u001b[0;34m.\u001b[0m\u001b[0m_create_connection_guard\u001b[0m\u001b[0;34m(\u001b[0m\u001b[0mconnection\u001b[0m\u001b[0;34m)\u001b[0m\u001b[0;34m\u001b[0m\u001b[0;34m\u001b[0m\u001b[0m\n",
      "\u001b[0;32m/Library/Frameworks/Python.framework/Versions/3.8/lib/python3.8/site-packages/py4j/java_gateway.py\u001b[0m in \u001b[0;36msend_command\u001b[0;34m(self, command)\u001b[0m\n\u001b[1;32m   1198\u001b[0m \u001b[0;34m\u001b[0m\u001b[0m\n\u001b[1;32m   1199\u001b[0m         \u001b[0;32mtry\u001b[0m\u001b[0;34m:\u001b[0m\u001b[0;34m\u001b[0m\u001b[0;34m\u001b[0m\u001b[0m\n\u001b[0;32m-> 1200\u001b[0;31m             \u001b[0manswer\u001b[0m \u001b[0;34m=\u001b[0m \u001b[0msmart_decode\u001b[0m\u001b[0;34m(\u001b[0m\u001b[0mself\u001b[0m\u001b[0;34m.\u001b[0m\u001b[0mstream\u001b[0m\u001b[0;34m.\u001b[0m\u001b[0mreadline\u001b[0m\u001b[0;34m(\u001b[0m\u001b[0;34m)\u001b[0m\u001b[0;34m[\u001b[0m\u001b[0;34m:\u001b[0m\u001b[0;34m-\u001b[0m\u001b[0;36m1\u001b[0m\u001b[0;34m]\u001b[0m\u001b[0;34m)\u001b[0m\u001b[0;34m\u001b[0m\u001b[0;34m\u001b[0m\u001b[0m\n\u001b[0m\u001b[1;32m   1201\u001b[0m             \u001b[0mlogger\u001b[0m\u001b[0;34m.\u001b[0m\u001b[0mdebug\u001b[0m\u001b[0;34m(\u001b[0m\u001b[0;34m\"Answer received: {0}\"\u001b[0m\u001b[0;34m.\u001b[0m\u001b[0mformat\u001b[0m\u001b[0;34m(\u001b[0m\u001b[0manswer\u001b[0m\u001b[0;34m)\u001b[0m\u001b[0;34m)\u001b[0m\u001b[0;34m\u001b[0m\u001b[0;34m\u001b[0m\u001b[0m\n\u001b[1;32m   1202\u001b[0m             \u001b[0;32mif\u001b[0m \u001b[0manswer\u001b[0m\u001b[0;34m.\u001b[0m\u001b[0mstartswith\u001b[0m\u001b[0;34m(\u001b[0m\u001b[0mproto\u001b[0m\u001b[0;34m.\u001b[0m\u001b[0mRETURN_MESSAGE\u001b[0m\u001b[0;34m)\u001b[0m\u001b[0;34m:\u001b[0m\u001b[0;34m\u001b[0m\u001b[0;34m\u001b[0m\u001b[0m\n",
      "\u001b[0;32m/Library/Frameworks/Python.framework/Versions/3.8/lib/python3.8/socket.py\u001b[0m in \u001b[0;36mreadinto\u001b[0;34m(self, b)\u001b[0m\n\u001b[1;32m    667\u001b[0m         \u001b[0;32mwhile\u001b[0m \u001b[0;32mTrue\u001b[0m\u001b[0;34m:\u001b[0m\u001b[0;34m\u001b[0m\u001b[0;34m\u001b[0m\u001b[0m\n\u001b[1;32m    668\u001b[0m             \u001b[0;32mtry\u001b[0m\u001b[0;34m:\u001b[0m\u001b[0;34m\u001b[0m\u001b[0;34m\u001b[0m\u001b[0m\n\u001b[0;32m--> 669\u001b[0;31m                 \u001b[0;32mreturn\u001b[0m \u001b[0mself\u001b[0m\u001b[0;34m.\u001b[0m\u001b[0m_sock\u001b[0m\u001b[0;34m.\u001b[0m\u001b[0mrecv_into\u001b[0m\u001b[0;34m(\u001b[0m\u001b[0mb\u001b[0m\u001b[0;34m)\u001b[0m\u001b[0;34m\u001b[0m\u001b[0;34m\u001b[0m\u001b[0m\n\u001b[0m\u001b[1;32m    670\u001b[0m             \u001b[0;32mexcept\u001b[0m \u001b[0mtimeout\u001b[0m\u001b[0;34m:\u001b[0m\u001b[0;34m\u001b[0m\u001b[0;34m\u001b[0m\u001b[0m\n\u001b[1;32m    671\u001b[0m                 \u001b[0mself\u001b[0m\u001b[0;34m.\u001b[0m\u001b[0m_timeout_occurred\u001b[0m \u001b[0;34m=\u001b[0m \u001b[0;32mTrue\u001b[0m\u001b[0;34m\u001b[0m\u001b[0;34m\u001b[0m\u001b[0m\n",
      "\u001b[0;31mKeyboardInterrupt\u001b[0m: "
     ]
    }
   ],
   "source": [
    "w_brackets.limit(10)"
   ]
  },
  {
   "cell_type": "code",
   "execution_count": 40,
   "id": "through-chancellor",
   "metadata": {},
   "outputs": [],
   "source": [
    "from pyspark.sql.functions import month, date_format\n",
    "\n",
    "w_month= small.withColumn(\"Month\", month(col(\"pickup_time\"))).withColumn(\"DayOfWeek\", date_format(\"pickup_time\", \"d\"))"
   ]
  },
  {
   "cell_type": "code",
   "execution_count": 38,
   "id": "little-pressure",
   "metadata": {},
   "outputs": [
    {
     "ename": "KeyboardInterrupt",
     "evalue": "",
     "output_type": "error",
     "traceback": [
      "\u001b[0;31m---------------------------------------------------------------------------\u001b[0m",
      "\u001b[0;31mKeyboardInterrupt\u001b[0m                         Traceback (most recent call last)",
      "\u001b[0;32m<ipython-input-38-79a2743b1394>\u001b[0m in \u001b[0;36m<module>\u001b[0;34m\u001b[0m\n\u001b[0;32m----> 1\u001b[0;31m \u001b[0mw_month\u001b[0m\u001b[0;34m.\u001b[0m\u001b[0mgroupBy\u001b[0m\u001b[0;34m(\u001b[0m\u001b[0;34m'Month'\u001b[0m\u001b[0;34m)\u001b[0m\u001b[0;34m.\u001b[0m\u001b[0mcount\u001b[0m\u001b[0;34m(\u001b[0m\u001b[0;34m)\u001b[0m\u001b[0;34m\u001b[0m\u001b[0;34m\u001b[0m\u001b[0m\n\u001b[0m",
      "\u001b[0;32m/Library/Frameworks/Python.framework/Versions/3.8/lib/python3.8/site-packages/IPython/core/displayhook.py\u001b[0m in \u001b[0;36m__call__\u001b[0;34m(self, result)\u001b[0m\n\u001b[1;32m    260\u001b[0m             \u001b[0mself\u001b[0m\u001b[0;34m.\u001b[0m\u001b[0mstart_displayhook\u001b[0m\u001b[0;34m(\u001b[0m\u001b[0;34m)\u001b[0m\u001b[0;34m\u001b[0m\u001b[0;34m\u001b[0m\u001b[0m\n\u001b[1;32m    261\u001b[0m             \u001b[0mself\u001b[0m\u001b[0;34m.\u001b[0m\u001b[0mwrite_output_prompt\u001b[0m\u001b[0;34m(\u001b[0m\u001b[0;34m)\u001b[0m\u001b[0;34m\u001b[0m\u001b[0;34m\u001b[0m\u001b[0m\n\u001b[0;32m--> 262\u001b[0;31m             \u001b[0mformat_dict\u001b[0m\u001b[0;34m,\u001b[0m \u001b[0mmd_dict\u001b[0m \u001b[0;34m=\u001b[0m \u001b[0mself\u001b[0m\u001b[0;34m.\u001b[0m\u001b[0mcompute_format_data\u001b[0m\u001b[0;34m(\u001b[0m\u001b[0mresult\u001b[0m\u001b[0;34m)\u001b[0m\u001b[0;34m\u001b[0m\u001b[0;34m\u001b[0m\u001b[0m\n\u001b[0m\u001b[1;32m    263\u001b[0m             \u001b[0mself\u001b[0m\u001b[0;34m.\u001b[0m\u001b[0mupdate_user_ns\u001b[0m\u001b[0;34m(\u001b[0m\u001b[0mresult\u001b[0m\u001b[0;34m)\u001b[0m\u001b[0;34m\u001b[0m\u001b[0;34m\u001b[0m\u001b[0m\n\u001b[1;32m    264\u001b[0m             \u001b[0mself\u001b[0m\u001b[0;34m.\u001b[0m\u001b[0mfill_exec_result\u001b[0m\u001b[0;34m(\u001b[0m\u001b[0mresult\u001b[0m\u001b[0;34m)\u001b[0m\u001b[0;34m\u001b[0m\u001b[0;34m\u001b[0m\u001b[0m\n",
      "\u001b[0;32m/Library/Frameworks/Python.framework/Versions/3.8/lib/python3.8/site-packages/IPython/core/displayhook.py\u001b[0m in \u001b[0;36mcompute_format_data\u001b[0;34m(self, result)\u001b[0m\n\u001b[1;32m    149\u001b[0m \u001b[0;34m\u001b[0m\u001b[0m\n\u001b[1;32m    150\u001b[0m         \"\"\"\n\u001b[0;32m--> 151\u001b[0;31m         \u001b[0;32mreturn\u001b[0m \u001b[0mself\u001b[0m\u001b[0;34m.\u001b[0m\u001b[0mshell\u001b[0m\u001b[0;34m.\u001b[0m\u001b[0mdisplay_formatter\u001b[0m\u001b[0;34m.\u001b[0m\u001b[0mformat\u001b[0m\u001b[0;34m(\u001b[0m\u001b[0mresult\u001b[0m\u001b[0;34m)\u001b[0m\u001b[0;34m\u001b[0m\u001b[0;34m\u001b[0m\u001b[0m\n\u001b[0m\u001b[1;32m    152\u001b[0m \u001b[0;34m\u001b[0m\u001b[0m\n\u001b[1;32m    153\u001b[0m     \u001b[0;31m# This can be set to True by the write_output_prompt method in a subclass\u001b[0m\u001b[0;34m\u001b[0m\u001b[0;34m\u001b[0m\u001b[0;34m\u001b[0m\u001b[0m\n",
      "\u001b[0;32m/Library/Frameworks/Python.framework/Versions/3.8/lib/python3.8/site-packages/IPython/core/formatters.py\u001b[0m in \u001b[0;36mformat\u001b[0;34m(self, obj, include, exclude)\u001b[0m\n\u001b[1;32m    178\u001b[0m             \u001b[0mmd\u001b[0m \u001b[0;34m=\u001b[0m \u001b[0;32mNone\u001b[0m\u001b[0;34m\u001b[0m\u001b[0;34m\u001b[0m\u001b[0m\n\u001b[1;32m    179\u001b[0m             \u001b[0;32mtry\u001b[0m\u001b[0;34m:\u001b[0m\u001b[0;34m\u001b[0m\u001b[0;34m\u001b[0m\u001b[0m\n\u001b[0;32m--> 180\u001b[0;31m                 \u001b[0mdata\u001b[0m \u001b[0;34m=\u001b[0m \u001b[0mformatter\u001b[0m\u001b[0;34m(\u001b[0m\u001b[0mobj\u001b[0m\u001b[0;34m)\u001b[0m\u001b[0;34m\u001b[0m\u001b[0;34m\u001b[0m\u001b[0m\n\u001b[0m\u001b[1;32m    181\u001b[0m             \u001b[0;32mexcept\u001b[0m\u001b[0;34m:\u001b[0m\u001b[0;34m\u001b[0m\u001b[0;34m\u001b[0m\u001b[0m\n\u001b[1;32m    182\u001b[0m                 \u001b[0;31m# FIXME: log the exception\u001b[0m\u001b[0;34m\u001b[0m\u001b[0;34m\u001b[0m\u001b[0;34m\u001b[0m\u001b[0m\n",
      "\u001b[0;32m<decorator-gen-3>\u001b[0m in \u001b[0;36m__call__\u001b[0;34m(self, obj)\u001b[0m\n",
      "\u001b[0;32m/Library/Frameworks/Python.framework/Versions/3.8/lib/python3.8/site-packages/IPython/core/formatters.py\u001b[0m in \u001b[0;36mcatch_format_error\u001b[0;34m(method, self, *args, **kwargs)\u001b[0m\n\u001b[1;32m    222\u001b[0m     \u001b[0;34m\"\"\"show traceback on failed format call\"\"\"\u001b[0m\u001b[0;34m\u001b[0m\u001b[0;34m\u001b[0m\u001b[0m\n\u001b[1;32m    223\u001b[0m     \u001b[0;32mtry\u001b[0m\u001b[0;34m:\u001b[0m\u001b[0;34m\u001b[0m\u001b[0;34m\u001b[0m\u001b[0m\n\u001b[0;32m--> 224\u001b[0;31m         \u001b[0mr\u001b[0m \u001b[0;34m=\u001b[0m \u001b[0mmethod\u001b[0m\u001b[0;34m(\u001b[0m\u001b[0mself\u001b[0m\u001b[0;34m,\u001b[0m \u001b[0;34m*\u001b[0m\u001b[0margs\u001b[0m\u001b[0;34m,\u001b[0m \u001b[0;34m**\u001b[0m\u001b[0mkwargs\u001b[0m\u001b[0;34m)\u001b[0m\u001b[0;34m\u001b[0m\u001b[0;34m\u001b[0m\u001b[0m\n\u001b[0m\u001b[1;32m    225\u001b[0m     \u001b[0;32mexcept\u001b[0m \u001b[0mNotImplementedError\u001b[0m\u001b[0;34m:\u001b[0m\u001b[0;34m\u001b[0m\u001b[0;34m\u001b[0m\u001b[0m\n\u001b[1;32m    226\u001b[0m         \u001b[0;31m# don't warn on NotImplementedErrors\u001b[0m\u001b[0;34m\u001b[0m\u001b[0;34m\u001b[0m\u001b[0;34m\u001b[0m\u001b[0m\n",
      "\u001b[0;32m/Library/Frameworks/Python.framework/Versions/3.8/lib/python3.8/site-packages/IPython/core/formatters.py\u001b[0m in \u001b[0;36m__call__\u001b[0;34m(self, obj)\u001b[0m\n\u001b[1;32m    700\u001b[0m                 \u001b[0mtype_pprinters\u001b[0m\u001b[0;34m=\u001b[0m\u001b[0mself\u001b[0m\u001b[0;34m.\u001b[0m\u001b[0mtype_printers\u001b[0m\u001b[0;34m,\u001b[0m\u001b[0;34m\u001b[0m\u001b[0;34m\u001b[0m\u001b[0m\n\u001b[1;32m    701\u001b[0m                 deferred_pprinters=self.deferred_printers)\n\u001b[0;32m--> 702\u001b[0;31m             \u001b[0mprinter\u001b[0m\u001b[0;34m.\u001b[0m\u001b[0mpretty\u001b[0m\u001b[0;34m(\u001b[0m\u001b[0mobj\u001b[0m\u001b[0;34m)\u001b[0m\u001b[0;34m\u001b[0m\u001b[0;34m\u001b[0m\u001b[0m\n\u001b[0m\u001b[1;32m    703\u001b[0m             \u001b[0mprinter\u001b[0m\u001b[0;34m.\u001b[0m\u001b[0mflush\u001b[0m\u001b[0;34m(\u001b[0m\u001b[0;34m)\u001b[0m\u001b[0;34m\u001b[0m\u001b[0;34m\u001b[0m\u001b[0m\n\u001b[1;32m    704\u001b[0m             \u001b[0;32mreturn\u001b[0m \u001b[0mstream\u001b[0m\u001b[0;34m.\u001b[0m\u001b[0mgetvalue\u001b[0m\u001b[0;34m(\u001b[0m\u001b[0;34m)\u001b[0m\u001b[0;34m\u001b[0m\u001b[0;34m\u001b[0m\u001b[0m\n",
      "\u001b[0;32m/Library/Frameworks/Python.framework/Versions/3.8/lib/python3.8/site-packages/IPython/lib/pretty.py\u001b[0m in \u001b[0;36mpretty\u001b[0;34m(self, obj)\u001b[0m\n\u001b[1;32m    392\u001b[0m                         \u001b[0;32mif\u001b[0m \u001b[0mcls\u001b[0m \u001b[0;32mis\u001b[0m \u001b[0;32mnot\u001b[0m \u001b[0mobject\u001b[0m\u001b[0;31m \u001b[0m\u001b[0;31m\\\u001b[0m\u001b[0;34m\u001b[0m\u001b[0;34m\u001b[0m\u001b[0m\n\u001b[1;32m    393\u001b[0m                                 \u001b[0;32mand\u001b[0m \u001b[0mcallable\u001b[0m\u001b[0;34m(\u001b[0m\u001b[0mcls\u001b[0m\u001b[0;34m.\u001b[0m\u001b[0m__dict__\u001b[0m\u001b[0;34m.\u001b[0m\u001b[0mget\u001b[0m\u001b[0;34m(\u001b[0m\u001b[0;34m'__repr__'\u001b[0m\u001b[0;34m)\u001b[0m\u001b[0;34m)\u001b[0m\u001b[0;34m:\u001b[0m\u001b[0;34m\u001b[0m\u001b[0;34m\u001b[0m\u001b[0m\n\u001b[0;32m--> 394\u001b[0;31m                             \u001b[0;32mreturn\u001b[0m \u001b[0m_repr_pprint\u001b[0m\u001b[0;34m(\u001b[0m\u001b[0mobj\u001b[0m\u001b[0;34m,\u001b[0m \u001b[0mself\u001b[0m\u001b[0;34m,\u001b[0m \u001b[0mcycle\u001b[0m\u001b[0;34m)\u001b[0m\u001b[0;34m\u001b[0m\u001b[0;34m\u001b[0m\u001b[0m\n\u001b[0m\u001b[1;32m    395\u001b[0m \u001b[0;34m\u001b[0m\u001b[0m\n\u001b[1;32m    396\u001b[0m             \u001b[0;32mreturn\u001b[0m \u001b[0m_default_pprint\u001b[0m\u001b[0;34m(\u001b[0m\u001b[0mobj\u001b[0m\u001b[0;34m,\u001b[0m \u001b[0mself\u001b[0m\u001b[0;34m,\u001b[0m \u001b[0mcycle\u001b[0m\u001b[0;34m)\u001b[0m\u001b[0;34m\u001b[0m\u001b[0;34m\u001b[0m\u001b[0m\n",
      "\u001b[0;32m/Library/Frameworks/Python.framework/Versions/3.8/lib/python3.8/site-packages/IPython/lib/pretty.py\u001b[0m in \u001b[0;36m_repr_pprint\u001b[0;34m(obj, p, cycle)\u001b[0m\n\u001b[1;32m    698\u001b[0m     \u001b[0;34m\"\"\"A pprint that just redirects to the normal repr function.\"\"\"\u001b[0m\u001b[0;34m\u001b[0m\u001b[0;34m\u001b[0m\u001b[0m\n\u001b[1;32m    699\u001b[0m     \u001b[0;31m# Find newlines and replace them with p.break_()\u001b[0m\u001b[0;34m\u001b[0m\u001b[0;34m\u001b[0m\u001b[0;34m\u001b[0m\u001b[0m\n\u001b[0;32m--> 700\u001b[0;31m     \u001b[0moutput\u001b[0m \u001b[0;34m=\u001b[0m \u001b[0mrepr\u001b[0m\u001b[0;34m(\u001b[0m\u001b[0mobj\u001b[0m\u001b[0;34m)\u001b[0m\u001b[0;34m\u001b[0m\u001b[0;34m\u001b[0m\u001b[0m\n\u001b[0m\u001b[1;32m    701\u001b[0m     \u001b[0mlines\u001b[0m \u001b[0;34m=\u001b[0m \u001b[0moutput\u001b[0m\u001b[0;34m.\u001b[0m\u001b[0msplitlines\u001b[0m\u001b[0;34m(\u001b[0m\u001b[0;34m)\u001b[0m\u001b[0;34m\u001b[0m\u001b[0;34m\u001b[0m\u001b[0m\n\u001b[1;32m    702\u001b[0m     \u001b[0;32mwith\u001b[0m \u001b[0mp\u001b[0m\u001b[0;34m.\u001b[0m\u001b[0mgroup\u001b[0m\u001b[0;34m(\u001b[0m\u001b[0;34m)\u001b[0m\u001b[0;34m:\u001b[0m\u001b[0;34m\u001b[0m\u001b[0;34m\u001b[0m\u001b[0m\n",
      "\u001b[0;32m/Library/Frameworks/Python.framework/Versions/3.8/lib/python3.8/site-packages/pyspark/sql/dataframe.py\u001b[0m in \u001b[0;36m__repr__\u001b[0;34m(self)\u001b[0m\n\u001b[1;32m    489\u001b[0m         \u001b[0;32mif\u001b[0m \u001b[0;32mnot\u001b[0m \u001b[0mself\u001b[0m\u001b[0;34m.\u001b[0m\u001b[0m_support_repr_html\u001b[0m \u001b[0;32mand\u001b[0m \u001b[0mself\u001b[0m\u001b[0;34m.\u001b[0m\u001b[0msql_ctx\u001b[0m\u001b[0;34m.\u001b[0m\u001b[0m_conf\u001b[0m\u001b[0;34m.\u001b[0m\u001b[0misReplEagerEvalEnabled\u001b[0m\u001b[0;34m(\u001b[0m\u001b[0;34m)\u001b[0m\u001b[0;34m:\u001b[0m\u001b[0;34m\u001b[0m\u001b[0;34m\u001b[0m\u001b[0m\n\u001b[1;32m    490\u001b[0m             \u001b[0mvertical\u001b[0m \u001b[0;34m=\u001b[0m \u001b[0;32mFalse\u001b[0m\u001b[0;34m\u001b[0m\u001b[0;34m\u001b[0m\u001b[0m\n\u001b[0;32m--> 491\u001b[0;31m             return self._jdf.showString(\n\u001b[0m\u001b[1;32m    492\u001b[0m                 \u001b[0mself\u001b[0m\u001b[0;34m.\u001b[0m\u001b[0msql_ctx\u001b[0m\u001b[0;34m.\u001b[0m\u001b[0m_conf\u001b[0m\u001b[0;34m.\u001b[0m\u001b[0mreplEagerEvalMaxNumRows\u001b[0m\u001b[0;34m(\u001b[0m\u001b[0;34m)\u001b[0m\u001b[0;34m,\u001b[0m\u001b[0;34m\u001b[0m\u001b[0;34m\u001b[0m\u001b[0m\n\u001b[1;32m    493\u001b[0m                 self.sql_ctx._conf.replEagerEvalTruncate(), vertical)\n",
      "\u001b[0;32m/Library/Frameworks/Python.framework/Versions/3.8/lib/python3.8/site-packages/py4j/java_gateway.py\u001b[0m in \u001b[0;36m__call__\u001b[0;34m(self, *args)\u001b[0m\n\u001b[1;32m   1301\u001b[0m             \u001b[0mproto\u001b[0m\u001b[0;34m.\u001b[0m\u001b[0mEND_COMMAND_PART\u001b[0m\u001b[0;34m\u001b[0m\u001b[0;34m\u001b[0m\u001b[0m\n\u001b[1;32m   1302\u001b[0m \u001b[0;34m\u001b[0m\u001b[0m\n\u001b[0;32m-> 1303\u001b[0;31m         \u001b[0manswer\u001b[0m \u001b[0;34m=\u001b[0m \u001b[0mself\u001b[0m\u001b[0;34m.\u001b[0m\u001b[0mgateway_client\u001b[0m\u001b[0;34m.\u001b[0m\u001b[0msend_command\u001b[0m\u001b[0;34m(\u001b[0m\u001b[0mcommand\u001b[0m\u001b[0;34m)\u001b[0m\u001b[0;34m\u001b[0m\u001b[0;34m\u001b[0m\u001b[0m\n\u001b[0m\u001b[1;32m   1304\u001b[0m         return_value = get_return_value(\n\u001b[1;32m   1305\u001b[0m             answer, self.gateway_client, self.target_id, self.name)\n",
      "\u001b[0;32m/Library/Frameworks/Python.framework/Versions/3.8/lib/python3.8/site-packages/py4j/java_gateway.py\u001b[0m in \u001b[0;36msend_command\u001b[0;34m(self, command, retry, binary)\u001b[0m\n\u001b[1;32m   1031\u001b[0m         \u001b[0mconnection\u001b[0m \u001b[0;34m=\u001b[0m \u001b[0mself\u001b[0m\u001b[0;34m.\u001b[0m\u001b[0m_get_connection\u001b[0m\u001b[0;34m(\u001b[0m\u001b[0;34m)\u001b[0m\u001b[0;34m\u001b[0m\u001b[0;34m\u001b[0m\u001b[0m\n\u001b[1;32m   1032\u001b[0m         \u001b[0;32mtry\u001b[0m\u001b[0;34m:\u001b[0m\u001b[0;34m\u001b[0m\u001b[0;34m\u001b[0m\u001b[0m\n\u001b[0;32m-> 1033\u001b[0;31m             \u001b[0mresponse\u001b[0m \u001b[0;34m=\u001b[0m \u001b[0mconnection\u001b[0m\u001b[0;34m.\u001b[0m\u001b[0msend_command\u001b[0m\u001b[0;34m(\u001b[0m\u001b[0mcommand\u001b[0m\u001b[0;34m)\u001b[0m\u001b[0;34m\u001b[0m\u001b[0;34m\u001b[0m\u001b[0m\n\u001b[0m\u001b[1;32m   1034\u001b[0m             \u001b[0;32mif\u001b[0m \u001b[0mbinary\u001b[0m\u001b[0;34m:\u001b[0m\u001b[0;34m\u001b[0m\u001b[0;34m\u001b[0m\u001b[0m\n\u001b[1;32m   1035\u001b[0m                 \u001b[0;32mreturn\u001b[0m \u001b[0mresponse\u001b[0m\u001b[0;34m,\u001b[0m \u001b[0mself\u001b[0m\u001b[0;34m.\u001b[0m\u001b[0m_create_connection_guard\u001b[0m\u001b[0;34m(\u001b[0m\u001b[0mconnection\u001b[0m\u001b[0;34m)\u001b[0m\u001b[0;34m\u001b[0m\u001b[0;34m\u001b[0m\u001b[0m\n",
      "\u001b[0;32m/Library/Frameworks/Python.framework/Versions/3.8/lib/python3.8/site-packages/py4j/java_gateway.py\u001b[0m in \u001b[0;36msend_command\u001b[0;34m(self, command)\u001b[0m\n\u001b[1;32m   1198\u001b[0m \u001b[0;34m\u001b[0m\u001b[0m\n\u001b[1;32m   1199\u001b[0m         \u001b[0;32mtry\u001b[0m\u001b[0;34m:\u001b[0m\u001b[0;34m\u001b[0m\u001b[0;34m\u001b[0m\u001b[0m\n\u001b[0;32m-> 1200\u001b[0;31m             \u001b[0manswer\u001b[0m \u001b[0;34m=\u001b[0m \u001b[0msmart_decode\u001b[0m\u001b[0;34m(\u001b[0m\u001b[0mself\u001b[0m\u001b[0;34m.\u001b[0m\u001b[0mstream\u001b[0m\u001b[0;34m.\u001b[0m\u001b[0mreadline\u001b[0m\u001b[0;34m(\u001b[0m\u001b[0;34m)\u001b[0m\u001b[0;34m[\u001b[0m\u001b[0;34m:\u001b[0m\u001b[0;34m-\u001b[0m\u001b[0;36m1\u001b[0m\u001b[0;34m]\u001b[0m\u001b[0;34m)\u001b[0m\u001b[0;34m\u001b[0m\u001b[0;34m\u001b[0m\u001b[0m\n\u001b[0m\u001b[1;32m   1201\u001b[0m             \u001b[0mlogger\u001b[0m\u001b[0;34m.\u001b[0m\u001b[0mdebug\u001b[0m\u001b[0;34m(\u001b[0m\u001b[0;34m\"Answer received: {0}\"\u001b[0m\u001b[0;34m.\u001b[0m\u001b[0mformat\u001b[0m\u001b[0;34m(\u001b[0m\u001b[0manswer\u001b[0m\u001b[0;34m)\u001b[0m\u001b[0;34m)\u001b[0m\u001b[0;34m\u001b[0m\u001b[0;34m\u001b[0m\u001b[0m\n\u001b[1;32m   1202\u001b[0m             \u001b[0;32mif\u001b[0m \u001b[0manswer\u001b[0m\u001b[0;34m.\u001b[0m\u001b[0mstartswith\u001b[0m\u001b[0;34m(\u001b[0m\u001b[0mproto\u001b[0m\u001b[0;34m.\u001b[0m\u001b[0mRETURN_MESSAGE\u001b[0m\u001b[0;34m)\u001b[0m\u001b[0;34m:\u001b[0m\u001b[0;34m\u001b[0m\u001b[0;34m\u001b[0m\u001b[0m\n",
      "\u001b[0;32m/Library/Frameworks/Python.framework/Versions/3.8/lib/python3.8/socket.py\u001b[0m in \u001b[0;36mreadinto\u001b[0;34m(self, b)\u001b[0m\n\u001b[1;32m    667\u001b[0m         \u001b[0;32mwhile\u001b[0m \u001b[0;32mTrue\u001b[0m\u001b[0;34m:\u001b[0m\u001b[0;34m\u001b[0m\u001b[0;34m\u001b[0m\u001b[0m\n\u001b[1;32m    668\u001b[0m             \u001b[0;32mtry\u001b[0m\u001b[0;34m:\u001b[0m\u001b[0;34m\u001b[0m\u001b[0;34m\u001b[0m\u001b[0m\n\u001b[0;32m--> 669\u001b[0;31m                 \u001b[0;32mreturn\u001b[0m \u001b[0mself\u001b[0m\u001b[0;34m.\u001b[0m\u001b[0m_sock\u001b[0m\u001b[0;34m.\u001b[0m\u001b[0mrecv_into\u001b[0m\u001b[0;34m(\u001b[0m\u001b[0mb\u001b[0m\u001b[0;34m)\u001b[0m\u001b[0;34m\u001b[0m\u001b[0;34m\u001b[0m\u001b[0m\n\u001b[0m\u001b[1;32m    670\u001b[0m             \u001b[0;32mexcept\u001b[0m \u001b[0mtimeout\u001b[0m\u001b[0;34m:\u001b[0m\u001b[0;34m\u001b[0m\u001b[0;34m\u001b[0m\u001b[0m\n\u001b[1;32m    671\u001b[0m                 \u001b[0mself\u001b[0m\u001b[0;34m.\u001b[0m\u001b[0m_timeout_occurred\u001b[0m \u001b[0;34m=\u001b[0m \u001b[0;32mTrue\u001b[0m\u001b[0;34m\u001b[0m\u001b[0;34m\u001b[0m\u001b[0m\n",
      "\u001b[0;31mKeyboardInterrupt\u001b[0m: "
     ]
    }
   ],
   "source": [
    "w_month.groupBy('Month').count()"
   ]
  },
  {
   "cell_type": "code",
   "execution_count": null,
   "id": "joined-dividend",
   "metadata": {},
   "outputs": [],
   "source": []
  }
 ],
 "metadata": {
  "kernelspec": {
   "display_name": "Python 3",
   "language": "python",
   "name": "python3"
  },
  "language_info": {
   "codemirror_mode": {
    "name": "ipython",
    "version": 3
   },
   "file_extension": ".py",
   "mimetype": "text/x-python",
   "name": "python",
   "nbconvert_exporter": "python",
   "pygments_lexer": "ipython3",
   "version": "3.8.2"
  },
  "varInspector": {
   "cols": {
    "lenName": 16,
    "lenType": 16,
    "lenVar": 40
   },
   "kernels_config": {
    "python": {
     "delete_cmd_postfix": "",
     "delete_cmd_prefix": "del ",
     "library": "var_list.py",
     "varRefreshCmd": "print(var_dic_list())"
    },
    "r": {
     "delete_cmd_postfix": ") ",
     "delete_cmd_prefix": "rm(",
     "library": "var_list.r",
     "varRefreshCmd": "cat(var_dic_list()) "
    }
   },
   "types_to_exclude": [
    "module",
    "function",
    "builtin_function_or_method",
    "instance",
    "_Feature"
   ],
   "window_display": false
  }
 },
 "nbformat": 4,
 "nbformat_minor": 5
}
