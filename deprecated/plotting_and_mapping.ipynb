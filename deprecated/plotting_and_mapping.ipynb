{
 "cells": [
  {
   "cell_type": "code",
   "execution_count": 1,
   "metadata": {},
   "outputs": [],
   "source": [
    "import pandas as pd\n",
    "import geopandas as gpd\n",
    "import folium\n",
    "import matplotlib.pyplot as plt\n",
    "import seaborn as sns\n",
    "import numpy as np"
   ]
  },
  {
   "cell_type": "code",
   "execution_count": 2,
   "metadata": {},
   "outputs": [],
   "source": [
    "df18 = pd.read_pickle(\"2018_all_data.pkl\")"
   ]
  },
  {
   "cell_type": "code",
   "execution_count": null,
   "metadata": {},
   "outputs": [],
   "source": [
    "sample = df18.sample(n = 10000, random_state = 1)"
   ]
  },
  {
   "cell_type": "code",
   "execution_count": null,
   "metadata": {},
   "outputs": [],
   "source": [
    "hist = sns.histplot(data = sample, x = 'cost', kde = True, bins = int(np.log2(len(sample))) + 1)\n",
    "plt.title('Trip Cost Distribution')\n",
    "#plt.savefig('plots/cost_hist_10000_sturges.png')"
   ]
  },
  {
   "cell_type": "code",
   "execution_count": null,
   "metadata": {},
   "outputs": [],
   "source": [
    "sns.scatterplot(data = sample, x = 'approx_dist', y = 'cost')\n",
    "plt.title('Trip cost vs approximate distance')\n",
    "#plt.savefig('plots/approx_vs_cost.png')"
   ]
  },
  {
   "cell_type": "code",
   "execution_count": null,
   "metadata": {},
   "outputs": [],
   "source": [
    "sns.scatterplot(data = sample, x = 'trip_distance', y = 'approx_dist')\n",
    "plt.plot([0,14], [0,14], 'r--')\n",
    "plt.title('Distance Approximation Error')\n",
    "#plt.savefig('plots/approx_vs_actual_dist.png')"
   ]
  },
  {
   "cell_type": "code",
   "execution_count": null,
   "metadata": {},
   "outputs": [],
   "source": [
    "dataDO = df18.groupby('DOBorough').size()"
   ]
  },
  {
   "cell_type": "code",
   "execution_count": null,
   "metadata": {},
   "outputs": [],
   "source": [
    "dataDO = dataDO.drop(['EWR', 'Staten Island'])"
   ]
  },
  {
   "cell_type": "code",
   "execution_count": null,
   "metadata": {},
   "outputs": [],
   "source": [
    "pie, ax = plt.subplots(figsize=[10,6])\n",
    "labels = dataDO.keys()\n",
    "plt.pie(x=dataDO, explode=[0.1]*4, autopct=\"%.1f%%\", pctdistance=1.15)\n",
    "plt.title(\"Trips per Drop Off Borough\", fontsize=14)\n",
    "plt.legend(labels = labels)\n",
    "plt.savefig('plots/DOBorough_pie.png')"
   ]
  },
  {
   "cell_type": "code",
   "execution_count": null,
   "metadata": {},
   "outputs": [],
   "source": [
    "dataPU = df18.groupby('PUBorough').size()"
   ]
  },
  {
   "cell_type": "code",
   "execution_count": null,
   "metadata": {},
   "outputs": [],
   "source": [
    "dataPU = dataPU.drop(['EWR', 'Staten Island'])"
   ]
  },
  {
   "cell_type": "code",
   "execution_count": null,
   "metadata": {},
   "outputs": [],
   "source": [
    "pie, ax = plt.subplots(figsize=[10,6])\n",
    "labels = dataPU.keys()\n",
    "plt.pie(x=dataPU, explode=[0.1]*4, autopct=\"%.1f%%\", pctdistance=1.15)\n",
    "plt.title(\"Trips per Pick Up Borough\", fontsize=14)\n",
    "plt.legend(labels = labels)\n",
    "plt.savefig('plots/PUBorough_pie.png')"
   ]
  },
  {
   "cell_type": "code",
   "execution_count": null,
   "metadata": {},
   "outputs": [],
   "source": [
    "geo_sample = df18.groupby('PULocationID').sample(n = 10, replace = True)"
   ]
  },
  {
   "cell_type": "code",
   "execution_count": null,
   "metadata": {},
   "outputs": [],
   "source": [
    "sf = gpd.read_file('zone_shapefiles/fixed_taxi_zones.shp')"
   ]
  },
  {
   "cell_type": "code",
   "execution_count": null,
   "metadata": {},
   "outputs": [],
   "source": [
    "gdf = gpd.GeoDataFrame(pd.merge(geo_sample, sf, left_on='PULocationID', right_on='LocationID')).drop('PULocationID',axis=1)"
   ]
  },
  {
   "cell_type": "code",
   "execution_count": null,
   "metadata": {},
   "outputs": [],
   "source": [
    "geoJSON = gdf[['LocationID','geometry']].drop_duplicates('LocationID').to_json()"
   ]
  },
  {
   "cell_type": "code",
   "execution_count": null,
   "metadata": {},
   "outputs": [],
   "source": [
    "means = gdf.groupby('LocationID').mean().reset_index()"
   ]
  },
  {
   "cell_type": "code",
   "execution_count": null,
   "metadata": {},
   "outputs": [],
   "source": [
    "m = folium.Map(location=[40.66, -73.94], tiles=\"Stamen Terrain\", zoom_start=10)\n",
    "\n",
    "# refer to the folium documentations on how to plot aggregated data.\n",
    "m.add_child(folium.Choropleth(\n",
    "    geo_data=geoJSON,\n",
    "    data = means,\n",
    "    columns = [\"LocationID\", \"cost\"],\n",
    "    key_on=\"properties.LocationID\",\n",
    "    fill_color=\"YlOrBr\",\n",
    "    fill_opacity=0.7,\n",
    "    line_opacity=0.2,\n",
    "    name='choropleth',\n",
    "    legend_name = \"Average Trip Cost ($)\"\n",
    "))\n",
    "\n",
    "#m.save('plots/trip_cost_PULocation.html')\n",
    "m"
   ]
  },
  {
   "cell_type": "code",
   "execution_count": null,
   "metadata": {},
   "outputs": [],
   "source": [
    "m = folium.Map(location=[40.66, -73.94], tiles=\"Stamen Terrain\", zoom_start=10)\n",
    "\n",
    "# refer to the folium documentations on how to plot aggregated data.\n",
    "m.add_child(folium.Choropleth(\n",
    "    geo_data=geoJSON,\n",
    "    data = means,\n",
    "    columns = [\"LocationID\", \"trip_distance\"],\n",
    "    key_on=\"properties.LocationID\",\n",
    "    fill_color=\"YlOrBr\",\n",
    "    fill_opacity=0.7,\n",
    "    line_opacity=0.2,\n",
    "    name='choropleth',\n",
    "    legend_name = \"Average Trip Distance (miles)\"\n",
    "))\n",
    "\n",
    "#m.save('plots/trip_dist_PULocation.html')\n",
    "m"
   ]
  },
  {
   "cell_type": "code",
   "execution_count": null,
   "metadata": {},
   "outputs": [],
   "source": [
    "m = folium.Map(location=[40.66, -73.94], tiles=\"Stamen Terrain\", zoom_start=10)\n",
    "\n",
    "# refer to the folium documentations on how to plot aggregated data.\n",
    "m.add_child(folium.Choropleth(\n",
    "    geo_data=geoJSON,\n",
    "    data = means,\n",
    "    columns = [\"LocationID\", \"PU_crashes\"],\n",
    "    key_on=\"properties.LocationID\",\n",
    "    fill_color=\"YlOrBr\",\n",
    "    fill_opacity=0.7,\n",
    "    line_opacity=0.2,\n",
    "    name='choropleth',\n",
    "    legend_name = \"Average Number of Crashes\"\n",
    "))\n",
    "\n",
    "m.save('plots/PU_crashes.html')\n",
    "m"
   ]
  },
  {
   "cell_type": "code",
   "execution_count": null,
   "metadata": {},
   "outputs": [],
   "source": [
    "geo_sample['abs_dist_err'] = abs(geo_sample['trip_distance'] - geo_sample['approx_dist'])\n",
    "geo_sample['dist_err'] = geo_sample['trip_distance'] - geo_sample['approx_dist']"
   ]
  },
  {
   "cell_type": "code",
   "execution_count": null,
   "metadata": {},
   "outputs": [],
   "source": [
    "from folium.plugins import HeatMap\n",
    "from folium.plugins import FastMarkerCluster"
   ]
  },
  {
   "cell_type": "code",
   "execution_count": null,
   "metadata": {},
   "outputs": [],
   "source": [
    "crashes = pd.read_pickle('crashes_w_zones.pkl')"
   ]
  },
  {
   "cell_type": "code",
   "execution_count": null,
   "metadata": {},
   "outputs": [],
   "source": [
    "crash_heatmap = folium.Map(location=[40.66, -73.94], tiles=\"Stamen Terrain\", zoom_start=10)\n",
    "crash_heatmap.add_child(HeatMap(crashes[['LATITUDE', 'LONGITUDE']].values, radius=12.5))\n",
    "crash_heatmap.save('plots/crash_heatmap.html')\n",
    "crash_heatmap"
   ]
  },
  {
   "cell_type": "code",
   "execution_count": null,
   "metadata": {},
   "outputs": [],
   "source": [
    "crash_cluster = folium.Map(location=[40.66, -73.94], tiles=\"Stamen Terrain\", zoom_start=10)\n",
    "crash_cluster.add_child(FastMarkerCluster(data=crashes[['LATITUDE', 'LONGITUDE']].values))\n",
    "crash_cluster"
   ]
  },
  {
   "cell_type": "code",
   "execution_count": null,
   "metadata": {},
   "outputs": [],
   "source": [
    "interest = ['passenger_count', 'trip_distance', 'cost', 'PU_crashes', 'DO_crashes','approx_dist', 'DailyAverageDryBulbTemperature',\n",
    "       'DailyAverageRelativeHumidity', 'DailyAverageWindSpeed',\n",
    "       'DailyPrecipitation', 'DailySnowDepth', 'DailySnowfall', 'PU_rides_in_zone',\n",
    "       'DO_rides_in_zone']"
   ]
  },
  {
   "cell_type": "code",
   "execution_count": null,
   "metadata": {},
   "outputs": [],
   "source": [
    "sns.heatmap(sample[interest].corr())\n",
    "plt.savefig('plots/corr_heatmap.png')"
   ]
  },
  {
   "cell_type": "code",
   "execution_count": null,
   "metadata": {},
   "outputs": [],
   "source": []
  }
 ],
 "metadata": {
  "kernelspec": {
   "display_name": "Python 3 (Anaconda 3)",
   "language": "python",
   "name": "python3"
  },
  "language_info": {
   "codemirror_mode": {
    "name": "ipython",
    "version": 3
   },
   "file_extension": ".py",
   "mimetype": "text/x-python",
   "name": "python",
   "nbconvert_exporter": "python",
   "pygments_lexer": "ipython3",
   "version": "3.8.2"
  },
  "varInspector": {
   "cols": {
    "lenName": 16,
    "lenType": 16,
    "lenVar": 40
   },
   "kernels_config": {
    "python": {
     "delete_cmd_postfix": "",
     "delete_cmd_prefix": "del ",
     "library": "var_list.py",
     "varRefreshCmd": "print(var_dic_list())"
    },
    "r": {
     "delete_cmd_postfix": ") ",
     "delete_cmd_prefix": "rm(",
     "library": "var_list.r",
     "varRefreshCmd": "cat(var_dic_list()) "
    }
   },
   "types_to_exclude": [
    "module",
    "function",
    "builtin_function_or_method",
    "instance",
    "_Feature"
   ],
   "window_display": false
  }
 },
 "nbformat": 4,
 "nbformat_minor": 5
}
